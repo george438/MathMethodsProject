{
 "cells": [
  {
   "cell_type": "code",
   "execution_count": 1,
   "metadata": {
    "ExecuteTime": {
     "end_time": "2021-02-23T17:05:11.463900Z",
     "start_time": "2021-02-23T17:05:10.589187Z"
    }
   },
   "outputs": [],
   "source": [
    "import pandas as pd\n",
    "import numpy as np\n",
    "import ipywidgets as widgets\n",
    "import warnings\n",
    "import ipython_blocking\n",
    "\n",
    "from numpy import linalg as LA\n",
    "from IPython.core.display import Javascript, display\n",
    "from ipywidgets import Button, Layout\n",
    "from IPython.display import HTML\n",
    "\n",
    "warnings.simplefilter('ignore')"
   ]
  },
  {
   "cell_type": "code",
   "execution_count": 2,
   "metadata": {
    "ExecuteTime": {
     "end_time": "2021-02-23T17:05:11.479895Z",
     "start_time": "2021-02-23T17:05:11.464900Z"
    }
   },
   "outputs": [
    {
     "data": {
      "text/html": [
       "<script>\n",
       "code_show=true; \n",
       "function code_toggle() {\n",
       " if (code_show){\n",
       " $('div.input').hide();\n",
       " } else {\n",
       " $('div.input').show();\n",
       " }\n",
       " code_show = !code_show\n",
       "} \n",
       "$( document ).ready(code_toggle);\n",
       "</script>\n",
       "<form action=\"javascript:code_toggle()\"><input type=\"submit\" value=\"Нажмите на кнопку чтобы увидеть код\"></form>"
      ],
      "text/plain": [
       "<IPython.core.display.HTML object>"
      ]
     },
     "execution_count": 2,
     "metadata": {},
     "output_type": "execute_result"
    }
   ],
   "source": [
    "HTML('''<script>\n",
    "code_show=true; \n",
    "function code_toggle() {\n",
    " if (code_show){\n",
    " $('div.input').hide();\n",
    " } else {\n",
    " $('div.input').show();\n",
    " }\n",
    " code_show = !code_show\n",
    "} \n",
    "$( document ).ready(code_toggle);\n",
    "</script>\n",
    "<form action=\"javascript:code_toggle()\"><input type=\"submit\" value=\"Нажмите на кнопку чтобы увидеть код\"></form>''')"
   ]
  },
  {
   "cell_type": "code",
   "execution_count": 3,
   "metadata": {
    "ExecuteTime": {
     "end_time": "2021-02-23T17:05:11.495890Z",
     "start_time": "2021-02-23T17:05:11.481895Z"
    }
   },
   "outputs": [
    {
     "data": {
      "application/javascript": [
       "require(\"notebook/js/notebook\").Notebook.prototype.scroll_to_bottom = function () {}\n"
      ],
      "text/plain": [
       "<IPython.core.display.Javascript object>"
      ]
     },
     "metadata": {},
     "output_type": "display_data"
    }
   ],
   "source": [
    "%%javascript\n",
    "require(\"notebook/js/notebook\").Notebook.prototype.scroll_to_bottom = function () {}"
   ]
  },
  {
   "cell_type": "markdown",
   "metadata": {},
   "source": [
    "### Принцип минимакса в решении игровых задач\n",
    "\n",
    "#### Основные понятия\n",
    "\n",
    "&#8195;&#8195; Во многих практических задачах возникают ситуации, когда требуется принять решение, не имея достаточной информации. Неизвестными могут быть как условия осуществления какой-либо операции, так и сознательные действия лиц, от которых зависит успех этой операции.\n",
    "\n",
    "&#8195;&#8195; Матричной игрой называется игра, осуществляемая по следующим правилам:\n",
    "- В игре участвуют два игрока;\n",
    "- Каждый из игроков обладает конечным набором стратегий;\n",
    "- Игра заключается в том, что каждый из игроков, не имея информации о действиях противника, делает один ход (выбирает одну из своих стратегий). Результатом выбора игроками стратегий является выигрыш и проигрыш в игре.\n",
    "- И выигрыш, и проигрыш выражаются числами.\n",
    "\n",
    "#### Матричная игра с нулевой суммой\n",
    "\n",
    "&#8195;&#8195; Матричная игра называется игрой с нулевой суммой, если в этой игре выигрыш одного игрока равняется проигрышу другого игрока.\n",
    "        \n",
    "&#8195;&#8195; Каждая матричная игра с нулевой суммой имеет платежную матрицу. Для того чтобы построить эту матрицу, обозначим одного из игроков символом A, а другого - символом B, и предположим, что $A_1$, $A_2$, ..., $A_m$ - стратегии, которые может применять игрок A, а $B_1$, $B_2$, ..., $B_n$ - стратегии, которые может применять игрок B.\n",
    "\n",
    "&#8195;&#8195; Матричная игра, в которой у игрока A имеется m стратегий, а у игрока B - n стратегий, называется игрой типа m$\\times$n.\n",
    "\n",
    "#### Нижняя и верхняя цена игры. Принцип минимакса\n",
    "\n",
    "Рассмотрим матричную игру типа m$\\times$n с платежной матрицей \n",
    "        \\begin{array}{cccc}\n",
    "            c_{11} & c_{12} & \\ldots & c_{1n}\\\\\n",
    "            c_{21} & c_{22} & \\ldots & c_{2n}\\\\\n",
    "            \\vdots & \\vdots & \\ddots & \\vdots\\\\\n",
    "            c_{m1} & c_{m2} & \\ldots & c_{mn}\n",
    "        \\end{array}\n",
    "        \n",
    "&#8195;&#8195; Если игрок A выберет стратегию $A_i$, то все его возможные выигрыши будут элементами i-й строки матрицы C. В наихудшем для игрока A случае, когда игрок B применяет стратегию, соответствующую минимальному элементу этой строки, выигрыш игрока A будет равен числу min $c_{ij}$, 1$\\leq$j$\\leq$n.\n",
    "    \n",
    "&#8195;&#8195; Следовательно, для получения наибольшего выигрыша, игроку A нужно выбирать ту из стратегий, для которой число min $c_{ij}$ (1$\\leq$j$\\leq$n) максимально. Это значение принятно считать нижней ценой игры.\n",
    "\n",
    "&#8195;&#8195;  Следовательно, игроку B нужно выбрать такую стратегию, для которой число max $c_{ij}$ (1$\\leq$i$\\leq$m) минимально. Это значение принято называть верхней ценой игры.\n",
    "\n",
    "#### Игры с седловой точкой\n",
    "\n",
    "Игра называется игрой с седловой точкой, если ее нижняя и верхняя цены совпадают, то есть выполняется равенство\n",
    "    \n",
    "&#8195;&#8195; $\\alpha$=max min $c_{ij}$=min max $c_{ij}$=$\\beta$, 1$\\leq$i$\\leq$m, 1$\\leq$j$\\leq$n\n",
    "    \n",
    "Для игры с седловой точкой общее значение нижней и верхней цены игры\n",
    "    \n",
    "&#8195;&#8195; V=$\\alpha$=$\\beta$\n",
    "\n",
    "называется ценой игры. Если седловая точка существует, то игра заканчивается после нахождения цены игры.\n",
    "\n",
    "&#8195;&#8195; Если селовая точка отсутствует, то в чистых стратегиях рассматриваемая игра не разрешима. Значит, результат этой игры определится в смешанных стратегиях.\n",
    "\n",
    "#### Теперь перейдем к практическому решению матричной игры.\n",
    "\n",
    "&#8195;&#8195; Для начала необходимо ввести матрицу, вы сможете сделать это ниже."
   ]
  },
  {
   "cell_type": "code",
   "execution_count": 4,
   "metadata": {
    "ExecuteTime": {
     "end_time": "2021-02-23T17:05:11.511885Z",
     "start_time": "2021-02-23T17:05:11.497889Z"
    }
   },
   "outputs": [
    {
     "data": {
      "text/html": [
       "<style>\n",
       ".enjoy-css {\n",
       "  display: inline-block;\n",
       "  -webkit-box-sizing: content-box;\n",
       "  -moz-box-sizing: content-box;\n",
       "  box-sizing: content-box;\n",
       "  cursor: pointer;\n",
       "  padding: 10px 20px;\n",
       "  border: 1px solid rgba(0,0,0,0);\n",
       "  -webkit-border-radius: 7px;\n",
       "  border-radius: 7px;\n",
       "  font: normal 12px/normal Verdana, Geneva, sans-serif;\n",
       "  color: rgba(0,0,0,1);\n",
       "  -o-text-overflow: clip;\n",
       "  text-overflow: clip;\n",
       "  word-spacing: 6px;\n",
       "  background: rgba(255,255,0,0.34);\n",
       "}\n",
       "</style>\n",
       "<div class=\"enjoy-css\">После заполнения формы не изменяйте введенные данные!</div>\n"
      ],
      "text/plain": [
       "<IPython.core.display.HTML object>"
      ]
     },
     "metadata": {},
     "output_type": "display_data"
    }
   ],
   "source": [
    "%%html\n",
    "<style>\n",
    ".enjoy-css {\n",
    "  display: inline-block;\n",
    "  -webkit-box-sizing: content-box;\n",
    "  -moz-box-sizing: content-box;\n",
    "  box-sizing: content-box;\n",
    "  cursor: pointer;\n",
    "  padding: 10px 20px;\n",
    "  border: 1px solid rgba(0,0,0,0);\n",
    "  -webkit-border-radius: 7px;\n",
    "  border-radius: 7px;\n",
    "  font: normal 12px/normal Verdana, Geneva, sans-serif;\n",
    "  color: rgba(0,0,0,1);\n",
    "  -o-text-overflow: clip;\n",
    "  text-overflow: clip;\n",
    "  word-spacing: 6px;\n",
    "  background: rgba(255,255,0,0.34);\n",
    "}\n",
    "</style>\n",
    "<div class=\"enjoy-css\">После заполнения формы не изменяйте введенные данные!</div>"
   ]
  },
  {
   "cell_type": "code",
   "execution_count": 5,
   "metadata": {
    "ExecuteTime": {
     "end_time": "2021-02-23T17:05:11.543874Z",
     "start_time": "2021-02-23T17:05:11.512884Z"
    }
   },
   "outputs": [
    {
     "data": {
      "application/vnd.jupyter.widget-view+json": {
       "model_id": "cd1b5130dce04d989544ff175a99bf21",
       "version_major": 2,
       "version_minor": 0
      },
      "text/plain": [
       "IntSlider(value=2, description='Количество строк в матрице:', layout=Layout(width='40%'), max=3, min=2, style=…"
      ]
     },
     "metadata": {},
     "output_type": "display_data"
    },
    {
     "data": {
      "application/vnd.jupyter.widget-view+json": {
       "model_id": "b18013f5710d4aca813ffba8dbc60271",
       "version_major": 2,
       "version_minor": 0
      },
      "text/plain": [
       "IntSlider(value=2, description='Количество cтолбов в матрице:', layout=Layout(width='40%'), max=5, min=2, styl…"
      ]
     },
     "metadata": {},
     "output_type": "display_data"
    }
   ],
   "source": [
    "matrix_rows_counter = widgets.IntSlider(\n",
    "    value=2,\n",
    "    min=2,\n",
    "    max=3,\n",
    "    step=1,\n",
    "    description='Количество строк в матрице:',\n",
    "    style={\"description_width\": 'initial',\n",
    "          \"handle_color\": 'lightblue'},\n",
    "    layout=Layout(width='40%')\n",
    ")\n",
    "\n",
    "matrix_cols_counter = widgets.IntSlider(\n",
    "    value=2,\n",
    "    min=2,\n",
    "    max=5,\n",
    "    step=1,\n",
    "    description='Количество cтолбов в матрице:',\n",
    "    style={\"description_width\": 'initial',\n",
    "          \"handle_color\": 'lightblue'},\n",
    "    layout=Layout(width='40%')\n",
    ")\n",
    "display(matrix_rows_counter)\n",
    "display(matrix_cols_counter)"
   ]
  },
  {
   "cell_type": "code",
   "execution_count": 7,
   "metadata": {
    "ExecuteTime": {
     "end_time": "2021-02-23T17:07:13.045087Z",
     "start_time": "2021-02-23T17:05:11.544874Z"
    }
   },
   "outputs": [
    {
     "data": {
      "application/vnd.jupyter.widget-view+json": {
       "model_id": "cfae592bc7ff4a9bb41929a08bed600a",
       "version_major": 2,
       "version_minor": 0
      },
      "text/plain": [
       "Button(description='Далее', layout=Layout(height='30px', width='26.5%'), style=ButtonStyle())"
      ]
     },
     "metadata": {},
     "output_type": "display_data"
    },
    {
     "data": {
      "application/javascript": [
       "Jupyter.notebook.select_next().execute_cells_below()"
      ],
      "text/plain": [
       "<IPython.core.display.Javascript object>"
      ]
     },
     "metadata": {},
     "output_type": "display_data"
    }
   ],
   "source": [
    "# Кнопка для приостановления выполнения следующих ячеек\n",
    "\n",
    "block_button_1 = widgets.Button(description='Далее', layout=Layout(width='26.5%', height='30px'))\n",
    "display(block_button_1)\n",
    "%blockrun block_button_1"
   ]
  },
  {
   "cell_type": "code",
   "execution_count": 8,
   "metadata": {
    "ExecuteTime": {
     "end_time": "2021-02-23T17:07:14.918473Z",
     "start_time": "2021-02-23T17:07:14.901479Z"
    },
    "scrolled": false
   },
   "outputs": [],
   "source": [
    "n_row = matrix_rows_counter.value\n",
    "n_col = matrix_cols_counter.value"
   ]
  },
  {
   "cell_type": "markdown",
   "metadata": {},
   "source": [
    "Значения для матричной игры:"
   ]
  },
  {
   "cell_type": "code",
   "execution_count": 20,
   "metadata": {
    "ExecuteTime": {
     "end_time": "2021-02-23T17:11:40.634702Z",
     "start_time": "2021-02-23T17:11:40.527736Z"
    }
   },
   "outputs": [
    {
     "data": {
      "application/vnd.jupyter.widget-view+json": {
       "model_id": "f3dc06a1b2f14a65af67c9f0cd00c6dc",
       "version_major": 2,
       "version_minor": 0
      },
      "text/plain": [
       "VBox(children=(Tab(children=(IntText(value=0), IntText(value=0), IntText(value=0), IntText(value=0), IntText(v…"
      ]
     },
     "metadata": {},
     "output_type": "display_data"
    }
   ],
   "source": [
    "def vbox_draw(rows,cols):\n",
    "    \n",
    "    vbox = widgets.VBox([widgets.Tab(title='') for i in range(rows)])\n",
    "\n",
    "    #   Cоздание виджета для ограничений\n",
    "\n",
    "    for i in range(len(vbox.children)):\n",
    "        vbox.children[i].set_title(0,\"\")\n",
    "    for i in range(rows):\n",
    "        vbox.children[i].children = [widgets.IntText(description='') for i in range(cols)]\n",
    "    display(vbox)\n",
    "    return vbox\n",
    "    \n",
    "vbox = vbox_draw(n_row,n_col)"
   ]
  },
  {
   "cell_type": "code",
   "execution_count": 11,
   "metadata": {
    "ExecuteTime": {
     "end_time": "2021-02-23T17:07:36.616368Z",
     "start_time": "2021-02-23T17:07:15.013442Z"
    }
   },
   "outputs": [
    {
     "data": {
      "application/vnd.jupyter.widget-view+json": {
       "model_id": "e0d63e5fea4b427a92e274dfbac35172",
       "version_major": 2,
       "version_minor": 0
      },
      "text/plain": [
       "Button(description='Выполнить расчет', layout=Layout(height='30px', width='26.5%'), style=ButtonStyle())"
      ]
     },
     "metadata": {},
     "output_type": "display_data"
    },
    {
     "data": {
      "application/javascript": [
       "Jupyter.notebook.select_next().execute_cells_below()"
      ],
      "text/plain": [
       "<IPython.core.display.Javascript object>"
      ]
     },
     "metadata": {},
     "output_type": "display_data"
    }
   ],
   "source": [
    "block_button_2 = widgets.Button(description='Выполнить расчет', layout=Layout(width='26.5%', height='30px'))\n",
    "display(block_button_2)\n",
    "%blockrun block_button_2"
   ]
  },
  {
   "cell_type": "code",
   "execution_count": 12,
   "metadata": {
    "ExecuteTime": {
     "end_time": "2021-02-23T17:07:37.001243Z",
     "start_time": "2021-02-23T17:07:36.962255Z"
    }
   },
   "outputs": [],
   "source": [
    "def toFixed(f: float, n=0):\n",
    "    a, b = str(f).split('.')\n",
    "    return '{}.{}{}'.format(a, b[:n], '0'*(n-len(b)))\n",
    "\n",
    "def init_data(matrix):\n",
    "    \n",
    "    for i in range(len(vbox.children)):\n",
    "            for j in range(len(vbox.children[i].children)):\n",
    "                matrix[i][j] = vbox.children[i].children[j].value\n",
    "    return matrix\n",
    "\n",
    "\n",
    "def invert_matrix(matrix):\n",
    "    \n",
    "    rows_cnt = len(matrix)\n",
    "    cols_cnt = len(matrix[0])\n",
    "\n",
    "    new_matix = [[0]*rows_cnt for _ in range(cols_cnt)]\n",
    "\n",
    "    for i in range(rows_cnt):\n",
    "        for j in range(cols_cnt):\n",
    "            new_matix[j][i] = matrix[i][j]\n",
    "    \n",
    "    return new_matix\n",
    "\n",
    "\n",
    "def delete_cols(mat,n):\n",
    "    if len(mat[0]) > 3:\n",
    "    \n",
    "        columnsList = []\n",
    "        columnsList1 = []\n",
    "        check = 0\n",
    "\n",
    "        for i in range(len(mat[0])):\n",
    "\n",
    "            for j in range(i+1,len(mat[0])):\n",
    "\n",
    "                if (len(columnsList)<6):\n",
    "\n",
    "                    for k in range(len(mat)):\n",
    "\n",
    "                        if (mat[k][i] >= mat[k][j]):\n",
    "                            check = check + 1\n",
    "                        else:\n",
    "                            check = 0\n",
    "                            break\n",
    "\n",
    "                    if (check == len(mat)):\n",
    "                        columnsList.append(i)\n",
    "                        check = 0\n",
    "                        break;\n",
    "\n",
    "        check = 0               \n",
    "\n",
    "        for i in range(len(mat[0])):\n",
    "\n",
    "            for j in range(i+1,len(mat[0])):\n",
    "\n",
    "                if (len(columnsList1)<6):\n",
    "\n",
    "                    for k in range(len(mat)):\n",
    "\n",
    "                        if (mat[k][j] >= mat[k][i]):\n",
    "                            check = check + 1\n",
    "                        else:\n",
    "                            check = 0\n",
    "                            break\n",
    "\n",
    "\n",
    "                    if (check == len(mat)):\n",
    "                        columnsList1.append(j)\n",
    "                        check = 0\n",
    "                        break;\n",
    "        S = []\n",
    "\n",
    "        if columnsList and columnsList1:\n",
    "            temp = np.hstack((columnsList, columnsList1))\n",
    "            temp = np.unique(temp)\n",
    "            temp = np.resize(temp, (len(mat[0])-3))\n",
    "            S = np.delete(mat, temp, 1)\n",
    "            S = np.transpose(S, axes = None)\n",
    "            A = ['A'+str(i+1) for i in range(n)]\n",
    "            B = {'B'+str(i+1): S[i] for i in range(len(S))}\n",
    "\n",
    "        else:\n",
    "            if columnsList1:\n",
    "                temp = np.resize(columnsList1, (len(mat[0])-3))\n",
    "                S = np.delete(mat, temp, 1)\n",
    "                S = np.transpose(S, axes=None)\n",
    "                A = ['A'+str(i+1) for i in range(n)]\n",
    "                B = {'B'+str(i+1): S[i] for i in range(len(S))}\n",
    "\n",
    "\n",
    "            if columnsList:\n",
    "                temp = np.resize(columnsList, (len(mat[0])-3))\n",
    "                S = np.delete(mat, temp, 1)\n",
    "                S = np.transpose(S, axes=None)\n",
    "                A = ['A'+str(i+1) for i in range(n)]\n",
    "                B = {'B'+str(i+1): S[i] for i in range(len(S))}\n",
    "                \n",
    "            if not columnsList and not columnsList1:\n",
    "                return invert_matrix(mat)\n",
    "            \n",
    "        return S\n",
    "    return mat\n",
    "\n",
    "def game2x2(a):\n",
    "    \n",
    "    p1 = (a[1][1] - a[1][0])/(a[0][0]+a[1][1] - a[1][0] - a[0][1])\n",
    "    p2 = (a[0][0] - a[0][1])/(a[0][0]+a[1][1] - a[1][0] - a[0][1])\n",
    "    \n",
    "    q1 = (a[1][1] - a[0][1])/(a[0][0]+a[1][1] - a[1][0] - a[0][1])\n",
    "    q2 = (a[0][0] - a[1][0])/(a[0][0]+a[1][1] - a[1][0] - a[0][1])\n",
    "    \n",
    "    y = (a[0][0]*a[1][1] - a[0][1]*a[1][0])/(a[0][0]+a[1][1] - a[1][0] - a[0][1])\n",
    "    \n",
    "    print(\"Ответ: y = {}\".format(y))\n",
    "    print(\"Смешанные стратегии игрока №1: P({},{}\".format(p1,p2))\n",
    "    print(\"Смешанные стратегии игрока №2: Q({},{}\".format(q1,q2))\n",
    "    \n",
    "def find_first_p(temp):\n",
    "\n",
    "    right_side = np.array([[0], [0], [0],[1]])\n",
    "    bottom_add = np.array([1,1,1])\n",
    "    minus_y = np.array([[-1],[-1],[-1],[0]])\n",
    "\n",
    "    bottom_add = bottom_add.reshape(1,3)\n",
    "    minus_y = minus_y.reshape(4,1)\n",
    "    right_side = right_side.reshape(4,1)\n",
    "    \n",
    "    temp_matrix = np.concatenate([temp, bottom_add], axis = 0)\n",
    "    temp_matrix = np.concatenate([temp_matrix, minus_y], axis = 1)\n",
    "\n",
    "    x = LA.solve(temp_matrix, right_side)\n",
    "    return x\n",
    "\n",
    "def find_second_p(temp):\n",
    "\n",
    "    right_side = np.array([[0], [0], [0],[1]])\n",
    "    bottom_add = np.array([1,1,1])\n",
    "    minus_y = np.array([[-1],[-1],[-1],[0]])\n",
    "    \n",
    "    bottom_add = bottom_add.reshape(1,3)\n",
    "    minus_y = minus_y.reshape(4,1)\n",
    "    right_side = right_side.reshape(4,1)\n",
    "\n",
    "    temp_matrix1 = np.transpose(temp, axes = None)\n",
    "    temp_matrix1 = np.concatenate([temp_matrix1, bottom_add], axis = 0)\n",
    "    temp_matrix1 = np.concatenate([temp_matrix1, minus_y], axis = 1)\n",
    "\n",
    "    x1 = LA.solve(temp_matrix1, right_side)\n",
    "    return x1\n",
    "\n",
    "def extremum_counts(matrix, inv_m, df, A, styles):\n",
    "    \n",
    "    amins = []\n",
    "    bmaxs = []\n",
    "        \n",
    "    for i in range(1,len(A)+1):\n",
    "        amins.append(df.loc[\"A\"+str(i)].min())\n",
    "\n",
    "    for i in range(1,len(inv_m)+1):\n",
    "        bmaxs.append(df[\"B\"+str(i)].max())\n",
    "\n",
    "    df['a=min'] = amins\n",
    "    df.loc['b=max'] = bmaxs + [np.nan]\n",
    "    \n",
    "    html = (df.style.set_table_styles(styles))\n",
    "    display(html)\n",
    "        \n",
    "    return {'dataframe':df, 'amins':amins, 'bmaxs': bmaxs}"
   ]
  },
  {
   "cell_type": "markdown",
   "metadata": {},
   "source": [
    "#### Шаг №1 Получение платежной матрицы."
   ]
  },
  {
   "cell_type": "code",
   "execution_count": 13,
   "metadata": {
    "ExecuteTime": {
     "end_time": "2021-02-23T17:07:37.032231Z",
     "start_time": "2021-02-23T17:07:37.003241Z"
    }
   },
   "outputs": [],
   "source": [
    "pd.set_option('precision', 0)\n",
    "df_matrix = init_data(np.zeros((n_row,n_col)))\n",
    "invert_m = invert_matrix(df_matrix)                             # Для корректного отображения данных в датафрейме\n",
    "A = ['A'+str(i+1) for i in range(n_row)]                        # Индексы для строк df\n",
    "B = {'B'+str(i+1): invert_m[i] for i in range(len(invert_m))}   # Индексы для столбцов df\n",
    "df = pd.DataFrame(index=A,data=B)"
   ]
  },
  {
   "cell_type": "code",
   "execution_count": 14,
   "metadata": {
    "ExecuteTime": {
     "end_time": "2021-02-23T17:07:37.387115Z",
     "start_time": "2021-02-23T17:07:37.033231Z"
    },
    "scrolled": false
   },
   "outputs": [
    {
     "data": {
      "text/html": [
       "<style  type=\"text/css\" >\n",
       "    #T_a1066bd2_75f9_11eb_9d2a_d43d7e35a519 th {\n",
       "          font-size: 120%;\n",
       "          text-align: center;\n",
       "    }    #T_a1066bd2_75f9_11eb_9d2a_d43d7e35a519 caption {\n",
       "          caption-side: bottom;\n",
       "    }    #T_a1066bd2_75f9_11eb_9d2a_d43d7e35a519 tr {\n",
       "          font-size: 150%;\n",
       "          text-align: center;\n",
       "    }</style><table id=\"T_a1066bd2_75f9_11eb_9d2a_d43d7e35a519\" ><thead>    <tr>        <th class=\"blank level0\" ></th>        <th class=\"col_heading level0 col0\" >B1</th>        <th class=\"col_heading level0 col1\" >B2</th>        <th class=\"col_heading level0 col2\" >B3</th>        <th class=\"col_heading level0 col3\" >B4</th>        <th class=\"col_heading level0 col4\" >B5</th>    </tr></thead><tbody>\n",
       "                <tr>\n",
       "                        <th id=\"T_a1066bd2_75f9_11eb_9d2a_d43d7e35a519level0_row0\" class=\"row_heading level0 row0\" >A1</th>\n",
       "                        <td id=\"T_a1066bd2_75f9_11eb_9d2a_d43d7e35a519row0_col0\" class=\"data row0 col0\" >3</td>\n",
       "                        <td id=\"T_a1066bd2_75f9_11eb_9d2a_d43d7e35a519row0_col1\" class=\"data row0 col1\" >-4</td>\n",
       "                        <td id=\"T_a1066bd2_75f9_11eb_9d2a_d43d7e35a519row0_col2\" class=\"data row0 col2\" >7</td>\n",
       "                        <td id=\"T_a1066bd2_75f9_11eb_9d2a_d43d7e35a519row0_col3\" class=\"data row0 col3\" >-3</td>\n",
       "                        <td id=\"T_a1066bd2_75f9_11eb_9d2a_d43d7e35a519row0_col4\" class=\"data row0 col4\" >-5</td>\n",
       "            </tr>\n",
       "            <tr>\n",
       "                        <th id=\"T_a1066bd2_75f9_11eb_9d2a_d43d7e35a519level0_row1\" class=\"row_heading level0 row1\" >A2</th>\n",
       "                        <td id=\"T_a1066bd2_75f9_11eb_9d2a_d43d7e35a519row1_col0\" class=\"data row1 col0\" >5</td>\n",
       "                        <td id=\"T_a1066bd2_75f9_11eb_9d2a_d43d7e35a519row1_col1\" class=\"data row1 col1\" >5</td>\n",
       "                        <td id=\"T_a1066bd2_75f9_11eb_9d2a_d43d7e35a519row1_col2\" class=\"data row1 col2\" >-2</td>\n",
       "                        <td id=\"T_a1066bd2_75f9_11eb_9d2a_d43d7e35a519row1_col3\" class=\"data row1 col3\" >5</td>\n",
       "                        <td id=\"T_a1066bd2_75f9_11eb_9d2a_d43d7e35a519row1_col4\" class=\"data row1 col4\" >-10</td>\n",
       "            </tr>\n",
       "            <tr>\n",
       "                        <th id=\"T_a1066bd2_75f9_11eb_9d2a_d43d7e35a519level0_row2\" class=\"row_heading level0 row2\" >A3</th>\n",
       "                        <td id=\"T_a1066bd2_75f9_11eb_9d2a_d43d7e35a519row2_col0\" class=\"data row2 col0\" >-4</td>\n",
       "                        <td id=\"T_a1066bd2_75f9_11eb_9d2a_d43d7e35a519row2_col1\" class=\"data row2 col1\" >-5</td>\n",
       "                        <td id=\"T_a1066bd2_75f9_11eb_9d2a_d43d7e35a519row2_col2\" class=\"data row2 col2\" >9</td>\n",
       "                        <td id=\"T_a1066bd2_75f9_11eb_9d2a_d43d7e35a519row2_col3\" class=\"data row2 col3\" >11</td>\n",
       "                        <td id=\"T_a1066bd2_75f9_11eb_9d2a_d43d7e35a519row2_col4\" class=\"data row2 col4\" >-2</td>\n",
       "            </tr>\n",
       "    </tbody></table>"
      ],
      "text/plain": [
       "<pandas.io.formats.style.Styler at 0x2307990ce08>"
      ]
     },
     "metadata": {},
     "output_type": "display_data"
    }
   ],
   "source": [
    "# Стилизация датафрейма\n",
    "\n",
    "def hover(hover_color=\"#ffff99\"):\n",
    "    \n",
    "    return dict(selector=\"tr:hover\",\n",
    "                props=[(\"background-color\", \"%s\" % hover_color)])\n",
    "\n",
    "styles = [\n",
    "    dict(selector=\"th\", props=[(\"font-size\", \"120%\"),\n",
    "                               (\"text-align\", \"center\")]),\n",
    "    dict(selector=\"caption\", props=[(\"caption-side\", \"bottom\")]),\n",
    "    dict(selector=\"tr\", props=[(\"font-size\", \"150%\"),\n",
    "                               (\"text-align\", \"center\")])\n",
    "]\n",
    "html = (df.style.set_table_styles(styles))\n",
    "display(html)"
   ]
  },
  {
   "cell_type": "markdown",
   "metadata": {},
   "source": [
    "#### Шаг №2 Расчет максимальных и минимальных значений.\n",
    "\n",
    "&#8195;&#8195; На данном этапе необходимо рассчитать минимальные значения для каждой строки в матрице, а также максимальные значения для каждого столбца в матрице."
   ]
  },
  {
   "cell_type": "markdown",
   "metadata": {},
   "source": [
    "#### Но если матрица в введенном вами примере имеет размерность 3xN, где N > 3, то перед вычислением минимальных и максимальных значений по строкам и столбцам необходимо убрать доминирующие столбцы."
   ]
  },
  {
   "cell_type": "markdown",
   "metadata": {},
   "source": [
    "После отсеивания доминирующих столбцов, у нас получилась следующая матрица:"
   ]
  },
  {
   "cell_type": "code",
   "execution_count": 15,
   "metadata": {
    "ExecuteTime": {
     "end_time": "2021-02-23T17:07:37.403111Z",
     "start_time": "2021-02-23T17:07:37.388115Z"
    }
   },
   "outputs": [
    {
     "data": {
      "text/html": [
       "<style  type=\"text/css\" >\n",
       "    #T_a1088e8a_75f9_11eb_b8f0_d43d7e35a519 th {\n",
       "          font-size: 120%;\n",
       "          text-align: center;\n",
       "    }    #T_a1088e8a_75f9_11eb_b8f0_d43d7e35a519 caption {\n",
       "          caption-side: bottom;\n",
       "    }    #T_a1088e8a_75f9_11eb_b8f0_d43d7e35a519 tr {\n",
       "          font-size: 150%;\n",
       "          text-align: center;\n",
       "    }</style><table id=\"T_a1088e8a_75f9_11eb_b8f0_d43d7e35a519\" ><thead>    <tr>        <th class=\"blank level0\" ></th>        <th class=\"col_heading level0 col0\" >B1</th>        <th class=\"col_heading level0 col1\" >B2</th>        <th class=\"col_heading level0 col2\" >B3</th>    </tr></thead><tbody>\n",
       "                <tr>\n",
       "                        <th id=\"T_a1088e8a_75f9_11eb_b8f0_d43d7e35a519level0_row0\" class=\"row_heading level0 row0\" >A1</th>\n",
       "                        <td id=\"T_a1088e8a_75f9_11eb_b8f0_d43d7e35a519row0_col0\" class=\"data row0 col0\" >-4</td>\n",
       "                        <td id=\"T_a1088e8a_75f9_11eb_b8f0_d43d7e35a519row0_col1\" class=\"data row0 col1\" >-3</td>\n",
       "                        <td id=\"T_a1088e8a_75f9_11eb_b8f0_d43d7e35a519row0_col2\" class=\"data row0 col2\" >-5</td>\n",
       "            </tr>\n",
       "            <tr>\n",
       "                        <th id=\"T_a1088e8a_75f9_11eb_b8f0_d43d7e35a519level0_row1\" class=\"row_heading level0 row1\" >A2</th>\n",
       "                        <td id=\"T_a1088e8a_75f9_11eb_b8f0_d43d7e35a519row1_col0\" class=\"data row1 col0\" >5</td>\n",
       "                        <td id=\"T_a1088e8a_75f9_11eb_b8f0_d43d7e35a519row1_col1\" class=\"data row1 col1\" >5</td>\n",
       "                        <td id=\"T_a1088e8a_75f9_11eb_b8f0_d43d7e35a519row1_col2\" class=\"data row1 col2\" >-10</td>\n",
       "            </tr>\n",
       "            <tr>\n",
       "                        <th id=\"T_a1088e8a_75f9_11eb_b8f0_d43d7e35a519level0_row2\" class=\"row_heading level0 row2\" >A3</th>\n",
       "                        <td id=\"T_a1088e8a_75f9_11eb_b8f0_d43d7e35a519row2_col0\" class=\"data row2 col0\" >-5</td>\n",
       "                        <td id=\"T_a1088e8a_75f9_11eb_b8f0_d43d7e35a519row2_col1\" class=\"data row2 col1\" >11</td>\n",
       "                        <td id=\"T_a1088e8a_75f9_11eb_b8f0_d43d7e35a519row2_col2\" class=\"data row2 col2\" >-2</td>\n",
       "            </tr>\n",
       "    </tbody></table>"
      ],
      "text/plain": [
       "<pandas.io.formats.style.Styler at 0x2300196d088>"
      ]
     },
     "metadata": {},
     "output_type": "display_data"
    }
   ],
   "source": [
    "temp = delete_cols(df_matrix,n_row)\n",
    "A = ['A'+str(i+1) for i in range(n_row)]\n",
    "B = {'B'+str(i+1): temp[i] for i in range(len(temp))}\n",
    "df = pd.DataFrame(index=A,data=B)\n",
    "html = (df.style.set_table_styles(styles))\n",
    "display(html)"
   ]
  },
  {
   "cell_type": "markdown",
   "metadata": {},
   "source": [
    "Теперь требуется выполнить те же действия, что были указаны в начале второго шага. А именно рассчитать минимальные значения для каждой строки в матрице, а также максимальные значения для каждого столбца в матрице."
   ]
  },
  {
   "cell_type": "code",
   "execution_count": 16,
   "metadata": {
    "ExecuteTime": {
     "end_time": "2021-02-23T17:07:37.419106Z",
     "start_time": "2021-02-23T17:07:37.404110Z"
    }
   },
   "outputs": [
    {
     "data": {
      "text/html": [
       "<style  type=\"text/css\" >\n",
       "    #T_a10b4d6c_75f9_11eb_85d1_d43d7e35a519 th {\n",
       "          font-size: 120%;\n",
       "          text-align: center;\n",
       "    }    #T_a10b4d6c_75f9_11eb_85d1_d43d7e35a519 caption {\n",
       "          caption-side: bottom;\n",
       "    }    #T_a10b4d6c_75f9_11eb_85d1_d43d7e35a519 tr {\n",
       "          font-size: 150%;\n",
       "          text-align: center;\n",
       "    }</style><table id=\"T_a10b4d6c_75f9_11eb_85d1_d43d7e35a519\" ><thead>    <tr>        <th class=\"blank level0\" ></th>        <th class=\"col_heading level0 col0\" >B1</th>        <th class=\"col_heading level0 col1\" >B2</th>        <th class=\"col_heading level0 col2\" >B3</th>        <th class=\"col_heading level0 col3\" >a=min</th>    </tr></thead><tbody>\n",
       "                <tr>\n",
       "                        <th id=\"T_a10b4d6c_75f9_11eb_85d1_d43d7e35a519level0_row0\" class=\"row_heading level0 row0\" >A1</th>\n",
       "                        <td id=\"T_a10b4d6c_75f9_11eb_85d1_d43d7e35a519row0_col0\" class=\"data row0 col0\" >-4</td>\n",
       "                        <td id=\"T_a10b4d6c_75f9_11eb_85d1_d43d7e35a519row0_col1\" class=\"data row0 col1\" >-3</td>\n",
       "                        <td id=\"T_a10b4d6c_75f9_11eb_85d1_d43d7e35a519row0_col2\" class=\"data row0 col2\" >-5</td>\n",
       "                        <td id=\"T_a10b4d6c_75f9_11eb_85d1_d43d7e35a519row0_col3\" class=\"data row0 col3\" >-5</td>\n",
       "            </tr>\n",
       "            <tr>\n",
       "                        <th id=\"T_a10b4d6c_75f9_11eb_85d1_d43d7e35a519level0_row1\" class=\"row_heading level0 row1\" >A2</th>\n",
       "                        <td id=\"T_a10b4d6c_75f9_11eb_85d1_d43d7e35a519row1_col0\" class=\"data row1 col0\" >5</td>\n",
       "                        <td id=\"T_a10b4d6c_75f9_11eb_85d1_d43d7e35a519row1_col1\" class=\"data row1 col1\" >5</td>\n",
       "                        <td id=\"T_a10b4d6c_75f9_11eb_85d1_d43d7e35a519row1_col2\" class=\"data row1 col2\" >-10</td>\n",
       "                        <td id=\"T_a10b4d6c_75f9_11eb_85d1_d43d7e35a519row1_col3\" class=\"data row1 col3\" >-10</td>\n",
       "            </tr>\n",
       "            <tr>\n",
       "                        <th id=\"T_a10b4d6c_75f9_11eb_85d1_d43d7e35a519level0_row2\" class=\"row_heading level0 row2\" >A3</th>\n",
       "                        <td id=\"T_a10b4d6c_75f9_11eb_85d1_d43d7e35a519row2_col0\" class=\"data row2 col0\" >-5</td>\n",
       "                        <td id=\"T_a10b4d6c_75f9_11eb_85d1_d43d7e35a519row2_col1\" class=\"data row2 col1\" >11</td>\n",
       "                        <td id=\"T_a10b4d6c_75f9_11eb_85d1_d43d7e35a519row2_col2\" class=\"data row2 col2\" >-2</td>\n",
       "                        <td id=\"T_a10b4d6c_75f9_11eb_85d1_d43d7e35a519row2_col3\" class=\"data row2 col3\" >-5</td>\n",
       "            </tr>\n",
       "            <tr>\n",
       "                        <th id=\"T_a10b4d6c_75f9_11eb_85d1_d43d7e35a519level0_row3\" class=\"row_heading level0 row3\" >b=max</th>\n",
       "                        <td id=\"T_a10b4d6c_75f9_11eb_85d1_d43d7e35a519row3_col0\" class=\"data row3 col0\" >5</td>\n",
       "                        <td id=\"T_a10b4d6c_75f9_11eb_85d1_d43d7e35a519row3_col1\" class=\"data row3 col1\" >11</td>\n",
       "                        <td id=\"T_a10b4d6c_75f9_11eb_85d1_d43d7e35a519row3_col2\" class=\"data row3 col2\" >-2</td>\n",
       "                        <td id=\"T_a10b4d6c_75f9_11eb_85d1_d43d7e35a519row3_col3\" class=\"data row3 col3\" >nan</td>\n",
       "            </tr>\n",
       "    </tbody></table>"
      ],
      "text/plain": [
       "<pandas.io.formats.style.Styler at 0x23004181508>"
      ]
     },
     "metadata": {},
     "output_type": "display_data"
    }
   ],
   "source": [
    "extr_count = extremum_counts(df_matrix,temp,df,A,styles)"
   ]
  },
  {
   "cell_type": "markdown",
   "metadata": {},
   "source": [
    "#### Шаг №3 Поиск нижней и верхней цены игры\n",
    "\n",
    "Для нахождения верхней  нижней цены игры требуется:\n",
    "- Для нижней цены игры необходимо найти максимум среди минимальных в строках;\n",
    "- Для верхней цены игры необходимо найти минимум среди максимумов по столбцам.\n",
    "\n",
    "Седловая точка будет существовать только в том случае, если нижняя и верхняя границы равны."
   ]
  },
  {
   "cell_type": "code",
   "execution_count": 17,
   "metadata": {
    "ExecuteTime": {
     "end_time": "2021-02-23T17:07:37.435101Z",
     "start_time": "2021-02-23T17:07:37.421106Z"
    }
   },
   "outputs": [
    {
     "name": "stdout",
     "output_type": "stream",
     "text": [
      "Нижняя цена игры: -5.0\n",
      "Верхняя цена игры: -2.0\n",
      "Cедловой точки не существует, игра решится в смешанных стратегиях\n"
     ]
    }
   ],
   "source": [
    "# проверка на седловую точку\n",
    "\n",
    "sed_point = False\n",
    "\n",
    "max_point = max(extr_count['amins'])\n",
    "min_point = min(extr_count['bmaxs'])\n",
    "\n",
    "print(\"Нижняя цена игры: {}\".format(max_point))\n",
    "print(\"Верхняя цена игры: {}\".format(min_point))\n",
    "\n",
    "if (max_point == min_point):\n",
    "    print(\"Седловая точка существует, игра закончится в чистых стратегиях\")\n",
    "    print(\"Цена игры: {}\".format(max_point))\n",
    "    sed_point = True\n",
    "else:\n",
    "    print(\"Cедловой точки не существует, игра решится в смешанных стратегиях\")\n",
    "    if len(temp) != n_row:\n",
    "        print('Данная игра не решается стандартными методами, необходимо использовать симплекс-метод')"
   ]
  },
  {
   "cell_type": "markdown",
   "metadata": {},
   "source": [
    "#### Если решения игры в чистых стратегиях не существует, то применяются смешанные. О них вы также сможете прочитать в лекционных материалах."
   ]
  },
  {
   "cell_type": "markdown",
   "metadata": {},
   "source": [
    "&#8195;&#8195; Для того чтобы найти решение в смешанных стратегиях, необходимо составить систему линейных неравенств из получившейся на данном этапе матрицы. Когда система будет решена, вы сможете найсти стратегии каждого игрока, а также цену игры."
   ]
  },
  {
   "cell_type": "code",
   "execution_count": 18,
   "metadata": {
    "ExecuteTime": {
     "end_time": "2021-02-23T17:07:37.450094Z",
     "start_time": "2021-02-23T17:07:37.437100Z"
    }
   },
   "outputs": [],
   "source": [
    "if (sed_point == False and n_row == 2 and len(temp) == 2):\n",
    "    game2x2(df_matrix)"
   ]
  },
  {
   "cell_type": "code",
   "execution_count": 19,
   "metadata": {
    "ExecuteTime": {
     "end_time": "2021-02-23T17:07:37.481085Z",
     "start_time": "2021-02-23T17:07:37.451095Z"
    },
    "run_control": {
     "marked": false
    }
   },
   "outputs": [
    {
     "name": "stdout",
     "output_type": "stream",
     "text": [
      "Вероятность стратегии отрицательная, решение данным способом получить невозможно\n"
     ]
    }
   ],
   "source": [
    "if (sed_point == False and n_row == 3 and len(temp) == 3):\n",
    "    marker1 = True\n",
    "    marker2 = True\n",
    "\n",
    "    temp = delete_cols(df_matrix, n_row)\n",
    "    player_1 = find_first_p(temp)\n",
    "    player_1 = np.resize(player_1, (1, 4))\n",
    "    player_1 = player_1[0]\n",
    "\n",
    "    player_2 = find_second_p(temp)\n",
    "    player_2 = np.resize(player_1, (1, 4))\n",
    "    player_2 = player_2[0]\n",
    "\n",
    "    for i in range(3):\n",
    "        if player_1[i] < 0:\n",
    "            marker1 = False\n",
    "        if player_2[i] < 0:\n",
    "            marker2 = False\n",
    "\n",
    "    if not marker1 or  not marker2:\n",
    "        print(\"Вероятность стратегии отрицательная, решение данным способом получить невозможно\")\n",
    "\n",
    "    else:\n",
    "\n",
    "        print(\"y = \"+ str(toFixed(player_1[3], 1)))\n",
    "        print(\"Смешанные стратегии игрока №1: P({}, {}, {})\".format(player_1[0], player_1[1],player_1[2]))\n",
    "        print(\"Смешанные стратегии игрока №2: Q({}, {}, {})\".format(player_2[0], player_2[1],player_2[2]))"
   ]
  },
  {
   "cell_type": "code",
   "execution_count": null,
   "metadata": {},
   "outputs": [],
   "source": []
  }
 ],
 "metadata": {
  "kernelspec": {
   "display_name": "Python 3",
   "language": "python",
   "name": "python3"
  },
  "language_info": {
   "codemirror_mode": {
    "name": "ipython",
    "version": 3
   },
   "file_extension": ".py",
   "mimetype": "text/x-python",
   "name": "python",
   "nbconvert_exporter": "python",
   "pygments_lexer": "ipython3",
   "version": "3.7.6"
  },
  "nb2mail": {
   "From": "mathmethodes@gmail.com",
   "Subject": "Business Report",
   "To": "gogila2000@mail.ru",
   "attach_data": [
    "FINAL_MINIMAX.ipynb"
   ],
   "attach_file": [
    "FINAL_MINIMAX.ipynb"
   ],
   "attachments": [
    "FINAL_MINIMAX.ipynb"
   ]
  }
 },
 "nbformat": 4,
 "nbformat_minor": 4
}
