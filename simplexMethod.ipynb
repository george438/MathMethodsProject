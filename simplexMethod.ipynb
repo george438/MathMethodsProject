{
 "cells": [
  {
   "cell_type": "code",
   "execution_count": 1,
   "metadata": {
    "ExecuteTime": {
     "end_time": "2021-02-26T16:31:36.635411Z",
     "start_time": "2021-02-26T16:31:36.243539Z"
    },
    "deletable": false,
    "editable": false
   },
   "outputs": [
    {
     "data": {
      "text/html": [
       "<script>\n",
       "code_show=true; \n",
       "function code_toggle() {\n",
       " if (code_show){\n",
       " $('div.input').hide();\n",
       " } else {\n",
       " $('div.input').show();\n",
       " }\n",
       " code_show = !code_show\n",
       "} \n",
       "$( document ).ready(code_toggle);\n",
       "</script>\n",
       "<form action=\"javascript:code_toggle()\"><input type=\"submit\" value=\"Нажмите на кнопку чтобы увидеть код\"></form>"
      ],
      "text/plain": [
       "<IPython.core.display.HTML object>"
      ]
     },
     "execution_count": 1,
     "metadata": {},
     "output_type": "execute_result"
    }
   ],
   "source": [
    "import pandas as pd\n",
    "import numpy as np\n",
    "import warnings\n",
    "import ipywidgets as widgets\n",
    "import ipython_blocking\n",
    "warnings.simplefilter('ignore')\n",
    "\n",
    "from IPython.display import HTML\n",
    "from numpy import linalg as lp\n",
    "from IPython.core.display import Javascript, display\n",
    "from ipywidgets import Button, Layout\n",
    "\n",
    "pd.set_option('precision', 1)\n",
    "\n",
    "\n",
    "HTML('''<script>\n",
    "code_show=true; \n",
    "function code_toggle() {\n",
    " if (code_show){\n",
    " $('div.input').hide();\n",
    " } else {\n",
    " $('div.input').show();\n",
    " }\n",
    " code_show = !code_show\n",
    "} \n",
    "$( document ).ready(code_toggle);\n",
    "</script>\n",
    "<form action=\"javascript:code_toggle()\"><input type=\"submit\" value=\"Нажмите на кнопку чтобы увидеть код\"></form>''')"
   ]
  },
  {
   "cell_type": "code",
   "execution_count": 2,
   "metadata": {
    "ExecuteTime": {
     "end_time": "2021-02-26T16:31:36.650407Z",
     "start_time": "2021-02-26T16:31:36.636411Z"
    },
    "deletable": false,
    "editable": false
   },
   "outputs": [
    {
     "data": {
      "application/javascript": [
       "require(\"notebook/js/notebook\").Notebook.prototype.scroll_to_bottom = function () {}\n"
      ],
      "text/plain": [
       "<IPython.core.display.Javascript object>"
      ]
     },
     "metadata": {},
     "output_type": "display_data"
    }
   ],
   "source": [
    "%%javascript\n",
    "require(\"notebook/js/notebook\").Notebook.prototype.scroll_to_bottom = function () {}"
   ]
  },
  {
   "cell_type": "markdown",
   "metadata": {},
   "source": [
    "## Решение задачи линейного программирования симплекс-методом"
   ]
  },
  {
   "cell_type": "markdown",
   "metadata": {},
   "source": [
    "### Теоретические сведения\n",
    "\n",
    "В предыдущем параграфе для решения ОЗЛП был применен графический метод. В общем случае ОЗЛП решается с помощью симплекс-метода, к изложению которого мы сейчас и переходим.\n",
    "    \n",
    "&#8195;&#8195; Рассмотрим ОЗЛП с системой ограничений в следующей форме:\n",
    "   \n",
    "   \\begin{equation*}\n",
    "       \\begin{cases}\n",
    "           {a_{11}x_1+a_{12}x_2+...+a_{1n}x_n}\\leq b_1,\\\\\n",
    "           {a_{21}x_1+a_{22}x_2+...+a_{2n}x_n}\\leq b_2,\\\\\n",
    "           ...............................\\\\\n",
    "           {a_{m1}x_1+a_{m2}x_2+...+a_{mn}x_n}\\leq b_m,\n",
    "       \\end{cases}\n",
    "   \\end{equation*}\n",
    "   \n",
    "&#8195;&#8195; Если ввести в систему ограничений дополнительные переменные:\n",
    "   \n",
    "&#8195;&#8195; $x_{n+1}$, $x_{n+2}$, ..., $x_{n+m}$\n",
    "    \n",
    "&#8195;&#8195; по формулам:\n",
    "    \n",
    "   \\begin{equation*}\n",
    "       \\begin{cases}\n",
    "           x_{n+1}=b_1-{a_{11}x_1+a_{12}x_2+...+a_{1n}x_n}\\\\\n",
    "           x_{n+2}=b_2-{a_{21}x_1+a_{22}x_2+...+a_{2n}x_n}\\\\\n",
    "            ...................................\\\\\n",
    "           x_{n+m}=b_m-{a_{m1}x_1+a_{m2}x_2+...+a_{mn}x_n}\\\\\n",
    "       \\end{cases}\n",
    "   \\end{equation*}\n",
    "    \n",
    "&#8195;&#8195;то система ограничений преобразуется в систему уравнений:\n",
    "    \n",
    "   \\begin{equation*}\n",
    "       \\begin{cases}\n",
    "           {a_{11}x_1+a_{12}x_2+...+a_{1n}x_n}=b_1\\\\\n",
    "           {a_{21}x_1+a_{22}x_2+...+a_{2n}x_n}=b_2\\\\\n",
    "            ................................\\\\\n",
    "           {a_{m1}x_1+a_{m2}x_2+...+a_{mn}x_n}=b_m\n",
    "       \\end{cases} \n",
    "   \\end{equation*}\n",
    "   \n",
    "&#8195;&#8195; имеющую специальный вид. В этой системе каждая из переменных $x_{n+1}$, $x_{n+2}$, ..., $x_{n+m}$ исключена из всех уравнений, за исключением одного уравнения, в котором коэффициент при ней равен 1."
   ]
  },
  {
   "cell_type": "markdown",
   "metadata": {},
   "source": [
    "### Понятие опорного плана\n",
    "\n",
    "- Базисным решением ОЗЛП называется такое решение системы уравнений, в котором все свободные переменные равны 0.\n",
    "- Базисное решение ОЗЛП называется опорным решением (опорным планом), если в нем все базисные переменные неотрицательны.\n",
    "- В теории симплекс-метода доказывается, что, если максимум целевой функции при данной в ОЗЛП системе ограничений существует, то он достигается на опорном решении.\n",
    "- Опорное решение, на котором целевая функция достигает максимума, является оптимальным планом.\n",
    "\n",
    "&#8195;&#8195; Замечание. Не следует думать, что ОЗЛП всегда имеет решение. Система ограничений, например, может быть противоречивой и задавать пустое множество решений. Система ограничений может также задавать неограниченное множество, на котором функция прибыли является неограниченной."
   ]
  },
  {
   "cell_type": "markdown",
   "metadata": {},
   "source": [
    "### Расчетный алгоритм симплекс-метода\n",
    "\n",
    "&#8195;&#8195; Алгоритм симплекс-метода состоит из нескольких этапов: сначала происходит построение одного из опорных решений, а затем - «улучшение» этого решения, т.е. переход к другим опорным решениям, на которых значениецелевой функции не уменьшается. Для проведения расчетов используются симплекс-таблицы, составленные по коэффициентам системы, а процесс поиска и улучшения опорного решения заключается в пересчете элементов этих таблиц методом полных жордановых исключений."
   ]
  },
  {
   "cell_type": "code",
   "execution_count": 3,
   "metadata": {
    "ExecuteTime": {
     "end_time": "2021-02-26T16:31:36.698390Z",
     "start_time": "2021-02-26T16:31:36.651405Z"
    },
    "deletable": false,
    "editable": false
   },
   "outputs": [
    {
     "data": {
      "application/vnd.jupyter.widget-view+json": {
       "model_id": "a9e1fee9f669470cbd7b15b5418f0301",
       "version_major": 2,
       "version_minor": 0
      },
      "text/plain": [
       "IntSlider(value=2, description='Количество ограничений:', layout=Layout(width='40%'), max=5, min=2, style=Slid…"
      ]
     },
     "metadata": {},
     "output_type": "display_data"
    },
    {
     "data": {
      "application/vnd.jupyter.widget-view+json": {
       "model_id": "85d2508322bf40d7a81fa717d39159bc",
       "version_major": 2,
       "version_minor": 0
      },
      "text/plain": [
       "IntSlider(value=2, description='Количество переменных:', layout=Layout(width='40%'), max=5, min=2, style=Slide…"
      ]
     },
     "metadata": {},
     "output_type": "display_data"
    },
    {
     "data": {
      "application/vnd.jupyter.widget-view+json": {
       "model_id": "2bbfc7a7d99947eca486ffa13e632bd1",
       "version_major": 2,
       "version_minor": 0
      },
      "text/plain": [
       "Dropdown(description='Тип функции:', index=1, layout=Layout(width='15%'), options=('MIN', 'MAX'), style=Descri…"
      ]
     },
     "metadata": {},
     "output_type": "display_data"
    }
   ],
   "source": [
    "func_type = widgets.Dropdown(\n",
    "    options=['MIN', 'MAX'],\n",
    "    value='MAX',\n",
    "    description='Тип функции:',\n",
    "    disabled=False,\n",
    "    style={\"description_width\": 'initial',\n",
    "          \"handle_color\": 'lightblue'},\n",
    "    layout=Layout(width='15%')\n",
    ")\n",
    "\n",
    "rows_counter = widgets.IntSlider(\n",
    "    value=2,\n",
    "    min=2,\n",
    "    max=5,\n",
    "    step=1,\n",
    "    description='Количество ограничений:',\n",
    "    style={\"description_width\": 'initial',\n",
    "          \"handle_color\": 'lightblue'},\n",
    "    layout=Layout(width='40%')\n",
    ")\n",
    "\n",
    "cols_counter = widgets.IntSlider(\n",
    "    value=2,\n",
    "    min=2,\n",
    "    max=5,\n",
    "    step=1,\n",
    "    description='Количество переменных:',\n",
    "    style={\"description_width\": 'initial',\n",
    "          \"handle_color\": 'lightblue'},\n",
    "    layout=Layout(width='40%')\n",
    ")\n",
    "\n",
    "display(rows_counter)\n",
    "display(cols_counter)\n",
    "display(func_type)"
   ]
  },
  {
   "cell_type": "code",
   "execution_count": 5,
   "metadata": {
    "ExecuteTime": {
     "end_time": "2021-02-26T16:31:41.488556Z",
     "start_time": "2021-02-26T16:31:36.700390Z"
    },
    "deletable": false,
    "editable": false
   },
   "outputs": [
    {
     "data": {
      "application/vnd.jupyter.widget-view+json": {
       "model_id": "fefec58cf633478e96aed085e0701186",
       "version_major": 2,
       "version_minor": 0
      },
      "text/plain": [
       "Button(description='Далее', layout=Layout(height='30px', width='26.5%'), style=ButtonStyle())"
      ]
     },
     "metadata": {},
     "output_type": "display_data"
    },
    {
     "data": {
      "application/javascript": [
       "Jupyter.notebook.select_next().execute_cells_below()"
      ],
      "text/plain": [
       "<IPython.core.display.Javascript object>"
      ]
     },
     "metadata": {},
     "output_type": "display_data"
    }
   ],
   "source": [
    "# Кнопка для приостановления выполнения следующих ячеек\n",
    "\n",
    "block_button_1 = widgets.Button(description='Далее', layout=Layout(width='26.5%', height='30px'))\n",
    "display(block_button_1)\n",
    "%blockrun block_button_1"
   ]
  },
  {
   "cell_type": "markdown",
   "metadata": {},
   "source": [
    "Введите значения для целевой функции:"
   ]
  },
  {
   "cell_type": "code",
   "execution_count": 6,
   "metadata": {
    "ExecuteTime": {
     "end_time": "2021-02-26T16:31:41.594521Z",
     "start_time": "2021-02-26T16:31:41.567530Z"
    },
    "deletable": false,
    "editable": false
   },
   "outputs": [
    {
     "data": {
      "application/vnd.jupyter.widget-view+json": {
       "model_id": "77a59511c5864f8499d7d598ff2239ad",
       "version_major": 2,
       "version_minor": 0
      },
      "text/plain": [
       "Tab(children=(FloatText(value=0.0, description='Аргумент 1'), FloatText(value=0.0, description='Аргумент 2'), …"
      ]
     },
     "metadata": {},
     "output_type": "display_data"
    }
   ],
   "source": [
    "# Виджет для ввода значений целевой функции\n",
    "\n",
    "target_children = [widgets.FloatText(description='Аргумент {num}'.format(num = i+1))\n",
    "                   for i in range(cols_counter.value) ]\n",
    "target_function = widgets.Tab()\n",
    "target_function.children = target_children\n",
    "target_function.set_title(0, \"Целевая ф-ия\")\n",
    "display(target_function)"
   ]
  },
  {
   "cell_type": "markdown",
   "metadata": {},
   "source": [
    "Заполните таблицу неравенств-ограничений:\n",
    "\n",
    "Обратите внимание, последнее поле каждого неравенства это его ПРАВАЯ ЧАСТЬ."
   ]
  },
  {
   "cell_type": "code",
   "execution_count": 7,
   "metadata": {
    "ExecuteTime": {
     "end_time": "2021-02-26T16:31:41.686491Z",
     "start_time": "2021-02-26T16:31:41.595521Z"
    },
    "deletable": false,
    "editable": false
   },
   "outputs": [
    {
     "data": {
      "application/vnd.jupyter.widget-view+json": {
       "model_id": "deb186b8bb824aef82bbca3f003dba9a",
       "version_major": 2,
       "version_minor": 0
      },
      "text/plain": [
       "VBox(children=(Tab(children=(FloatText(value=0.0, description='x1'), FloatText(value=0.0, description='x2'), F…"
      ]
     },
     "metadata": {},
     "output_type": "display_data"
    }
   ],
   "source": [
    "# Виджет для матрицы системы ограничений\n",
    "\n",
    "def vbox_draw(rows,cols):\n",
    "    \n",
    "    vbox = widgets.VBox([widgets.Tab(title='') for i in range(rows)])\n",
    "\n",
    "    #   Cоздание виджета для ограничений\n",
    "\n",
    "    for i in range(len(vbox.children)):\n",
    "        vbox.children[i].set_title(0,\"Неравенство {}\".format(i+1))\n",
    "    for i in range(rows):\n",
    "        vbox.children[i].children = [widgets.FloatText(description='x{}'.format(i+1)) for i in range(cols+1)]\n",
    "    display(vbox)\n",
    "    return vbox\n",
    "    \n",
    "vbox = vbox_draw(rows_counter.value,cols_counter.value)"
   ]
  },
  {
   "cell_type": "markdown",
   "metadata": {},
   "source": [
    "Введите знаки для каждого неравенства в системе:"
   ]
  },
  {
   "cell_type": "code",
   "execution_count": 8,
   "metadata": {
    "ExecuteTime": {
     "end_time": "2021-02-26T16:31:41.733476Z",
     "start_time": "2021-02-26T16:31:41.687491Z"
    },
    "deletable": false,
    "editable": false
   },
   "outputs": [
    {
     "data": {
      "application/vnd.jupyter.widget-view+json": {
       "model_id": "d091915f54484dc9ae42367dd9057098",
       "version_major": 2,
       "version_minor": 0
      },
      "text/plain": [
       "Tab(children=(Dropdown(description='Неравенство 1', index=1, layout=Layout(width='30%'), options=('>=', '<='),…"
      ]
     },
     "metadata": {},
     "output_type": "display_data"
    }
   ],
   "source": [
    "# Виджет для ввода знаков неравенств\n",
    "\n",
    "signs_children = [widgets.Dropdown(\n",
    "    options=['>=', '<='],\n",
    "    value='<=',\n",
    "    description='Неравенство {}'.format(i+1),\n",
    "    disabled=False,\n",
    "    style={\"description_width\": 'initial',\n",
    "          \"handle_color\": 'lightblue'},\n",
    "    layout=Layout(width='30%')\n",
    ")\n",
    "                   for i in range(cols_counter.value) ]\n",
    "signs_function = widgets.Tab()\n",
    "signs_function.children = signs_children\n",
    "signs_function.set_title(0, \"Знаки неравенств\")\n",
    "signs_function"
   ]
  },
  {
   "cell_type": "code",
   "execution_count": 10,
   "metadata": {
    "ExecuteTime": {
     "end_time": "2021-02-26T16:32:57.235920Z",
     "start_time": "2021-02-26T16:31:41.734476Z"
    },
    "deletable": false,
    "editable": false
   },
   "outputs": [
    {
     "data": {
      "application/vnd.jupyter.widget-view+json": {
       "model_id": "d384dc9bc0934ac78bee1ba80e6320d1",
       "version_major": 2,
       "version_minor": 0
      },
      "text/plain": [
       "Button(description='Выполнить расчет', layout=Layout(height='30px', width='26.5%'), style=ButtonStyle())"
      ]
     },
     "metadata": {},
     "output_type": "display_data"
    },
    {
     "data": {
      "application/javascript": [
       "Jupyter.notebook.select_next().execute_cells_below()"
      ],
      "text/plain": [
       "<IPython.core.display.Javascript object>"
      ]
     },
     "metadata": {},
     "output_type": "display_data"
    }
   ],
   "source": [
    "block_button_2 = widgets.Button(description='Выполнить расчет', layout=Layout(width='26.5%', height='30px'))\n",
    "display(block_button_2)\n",
    "%blockrun block_button_2"
   ]
  },
  {
   "cell_type": "code",
   "execution_count": 11,
   "metadata": {
    "ExecuteTime": {
     "end_time": "2021-02-26T16:32:58.465030Z",
     "start_time": "2021-02-26T16:32:58.456034Z"
    },
    "deletable": false,
    "editable": false
   },
   "outputs": [],
   "source": [
    "def signs_init(signs):\n",
    "    checked_signs = [] \n",
    "    for i in range(len(signs.children)):\n",
    "        checked_signs.append(signs.children[i].value)\n",
    "    return checked_signs\n",
    "\n",
    "def target_init(target):\n",
    "    return [float(target.children[i].value) for i in range(cols_counter.value)]\n",
    "\n",
    "def constr_init(n,m,vbox):\n",
    "    constr = np.zeros((n,m+1), dtype=int)\n",
    "    for i in range(len(vbox.children)):\n",
    "            for j in range(len(vbox.children[i].children)):\n",
    "                    constr[i][j] = int(vbox.children[i].children[j].value)\n",
    "    return constr"
   ]
  },
  {
   "cell_type": "code",
   "execution_count": 12,
   "metadata": {
    "ExecuteTime": {
     "end_time": "2021-02-26T16:32:58.481026Z",
     "start_time": "2021-02-26T16:32:58.467031Z"
    },
    "deletable": false,
    "editable": false
   },
   "outputs": [],
   "source": [
    "n = rows_counter.value                  # Количество неравенств-ограничений\n",
    "m = cols_counter.value                  # Количество переменных\n",
    "c = target_init(target_function)\n",
    "signs = signs_init(signs_function)\n",
    "constr = constr_init(n,m,vbox)\n",
    "\n",
    "b = constr[:, len(constr[0]) - 1]\n",
    "constr = np.delete(constr, len(constr[0]) - 1, axis = 1)"
   ]
  },
  {
   "cell_type": "code",
   "execution_count": 13,
   "metadata": {
    "ExecuteTime": {
     "end_time": "2021-02-26T16:32:58.529010Z",
     "start_time": "2021-02-26T16:32:58.482026Z"
    },
    "deletable": false,
    "editable": false
   },
   "outputs": [],
   "source": [
    "class LinearModel:\n",
    "    def __init__(self,\n",
    "                 A=np.empty([0, 0]),\n",
    "                 b=np.empty([0, 0]),\n",
    "                 c=np.empty([0, 0]),\n",
    "                 signs = ['<=','<=','<='],\n",
    "                 minmax=\"MAX\"):\n",
    "        self.A = A\n",
    "        self.b = b\n",
    "        self.c = c\n",
    "        self.signs = signs\n",
    "        self.x = [float(0)] * len(c)\n",
    "        self.minmax = minmax\n",
    "        self.printIter = True\n",
    "        self.optimalValue = None\n",
    "        self.transform = False\n",
    "    \n",
    "    def addSigns(self, signs):\n",
    "        self.signs = signs\n",
    "\n",
    "    def addA(self, A):\n",
    "        self.A = A\n",
    "\n",
    "    def addB(self, b):\n",
    "        self.b = b\n",
    "\n",
    "    def addC(self, c):\n",
    "        self.c = c\n",
    "        self.transform = False\n",
    "\n",
    "    def setObj(self, minmax):\n",
    "        if (minmax == \"MIN\" or minmax == \"MAX\"):\n",
    "            self.minmax = minmax\n",
    "        else:\n",
    "            print(\"Некорректное значение\")\n",
    "        self.transform = False\n",
    "\n",
    "    def setPrintIter(self, printIter):\n",
    "        self.printIter = printIter\n",
    "\n",
    "    def printSoln(self):\n",
    "        print(\"Коеффициенты:\")\n",
    "        for i in range(len(self.x)):\n",
    "            print(\"x{0} = {1}\".format(i,self.x[i]))\n",
    "        print(\"Оптимальное значение функции: F = {}\".format(self.optimalValue))\n",
    "    \n",
    "    def switchSigns(self):\n",
    "        for i in range(len(self.b)):\n",
    "            if self.b[i] < 0:\n",
    "                self.A[i] = -self.A[i]\n",
    "                self.b[i] = -self.b[i]\n",
    "                if self.signs[i] == '<=':\n",
    "                    self.signs[i] = '>='\n",
    "                else:\n",
    "                    self.signs[i] = '<='\n",
    "                    \n",
    "    def switchBasis(self):\n",
    "        B = np.identity(len(self.signs))\n",
    "        for i in range(len(self.signs)):\n",
    "            for j in range(len(self.signs)):\n",
    "                if B[i][j]:\n",
    "                    if signs[i] == '>=':\n",
    "                        B[i][j] = -B[i][j]\n",
    "        return B\n",
    "\n",
    "    def printTableau(self, tableau):\n",
    "\n",
    "        tableau1 = tableau\n",
    "        A = ['F']\n",
    "        A1 = ['' + str(i + 1) for i in range(len(tableau1) - 1)]\n",
    "        A1_NEW = A + A1\n",
    "\n",
    "        tableau1 = np.transpose(tableau1, axes=None)\n",
    "        B0 = {'New_X': tableau1[0]}\n",
    "        B = {'R_S': tableau1[1]}\n",
    "\n",
    "        B0.update(B)\n",
    "\n",
    "        B1 = {\n",
    "            'x_' + str(j - 1): tableau1[j]\n",
    "            for j in range(2,\n",
    "                           len(tableau1) - 3)\n",
    "        }\n",
    "\n",
    "        B2 = {'s_' + str(j - 4): tableau1[j] for j in range(5, len(tableau1))}\n",
    "\n",
    "        B1.update(B2)\n",
    "        z = dict(list(B0.items()) + list(B1.items()))\n",
    "        df = pd.DataFrame(index=A1_NEW, data=z)\n",
    "\n",
    "        def hover(hover_color=\"#ffff99\"):\n",
    "\n",
    "            return dict(selector=\"tr:hover\",\n",
    "                        props=[(\"background-color\", \"%s\" % hover_color)])\n",
    "\n",
    "        styles = [\n",
    "            hover(),\n",
    "            dict(selector=\"th\",\n",
    "                 props=[(\"font-size\", \"120%\"), (\"text-align\", \"center\")]),\n",
    "            dict(selector=\"caption\", props=[(\"caption-side\", \"bottom\")]),\n",
    "            dict(selector=\"tr\",\n",
    "                 props=[(\"font-size\", \"150%\"), (\"text-align\", \"center\")])\n",
    "        ]\n",
    "        html = (df.style.set_table_styles(styles))\n",
    "        display(html)\n",
    "\n",
    "    def getTableau(self):\n",
    "        # Создание стартовой симплекс-таблицы\n",
    "        \n",
    "        self.switchSigns()\n",
    "        \n",
    "        if (self.minmax == \"MIN\" and self.transform == False):\n",
    "            self.c[0:len(c)] = -1 * self.c[0:len(c)]\n",
    "            self.transform = True\n",
    "\n",
    "        t1 = np.array([None, 0])\n",
    "        numVar = len(self.c)\n",
    "        numSlack = len(self.A)\n",
    "\n",
    "        t1 = np.hstack(([None], [0], self.c, [0] * numSlack))\n",
    "\n",
    "        basis = np.array([0] * numSlack)\n",
    "        for i in range(0, len(basis)):\n",
    "            basis[i] = numVar + i\n",
    "        A = self.A\n",
    "\n",
    "        if (not ((numSlack + numVar) == len(self.A[0]))):\n",
    "            B = self.switchBasis()\n",
    "            \n",
    "            A = np.hstack((self.A, B))\n",
    "            \n",
    "        t2 = np.hstack((np.transpose([basis]), np.transpose([self.b]), A))\n",
    "        tableau = np.vstack((t1, t2))\n",
    "\n",
    "        tableau = np.array(tableau, dtype='float')\n",
    "\n",
    "        return tableau\n",
    "\n",
    "    def optimize(self):\n",
    "\n",
    "        if (self.minmax == \"MIN\" and self.transform == False):\n",
    "            for i in range(len(self.c)):\n",
    "                self.c[i] = -1 * self.c[i]\n",
    "                transform = True\n",
    "\n",
    "        tableau = self.getTableau()\n",
    "\n",
    "        if (self.printIter == True):\n",
    "            print(\"Начальная симплекс-таблица:\")\n",
    "            self.printTableau(tableau)\n",
    "\n",
    "        optimal = False\n",
    "\n",
    "        iter = 1\n",
    "\n",
    "        while (True):\n",
    "\n",
    "            if (self.printIter == True):\n",
    "                print(\"_________________________\")\n",
    "                print(\"\")\n",
    "                print(\"Итерация :\", iter)\n",
    "                self.printTableau(tableau)\n",
    "\n",
    "            if (self.minmax == \"MAX\"):\n",
    "                for profit in tableau[0, 2:]:\n",
    "                    if profit > 0:\n",
    "                        optimal = False\n",
    "                        break\n",
    "                    optimal = True\n",
    "            else:\n",
    "                for cost in tableau[0, 2:]:\n",
    "                    if cost < 0:\n",
    "                        optimal = False\n",
    "                        break\n",
    "                    optimal = True\n",
    "\n",
    "            if optimal == True:\n",
    "                break\n",
    "\n",
    "            if (self.minmax == \"MAX\"):\n",
    "                n = tableau[0, 2:].tolist().index(np.amax(tableau[0, 2:])) + 2\n",
    "            else:\n",
    "                n = tableau[0, 2:].tolist().index(np.amin(tableau[0, 2:])) + 2\n",
    "\n",
    "            minimum = 99999\n",
    "            r = -1\n",
    "\n",
    "            for i in range(1, len(tableau)):\n",
    "                if (tableau[i, n] > 0):\n",
    "                    val = tableau[i, 1] / tableau[i, n]\n",
    "                    if val < minimum:\n",
    "                        minimum = val\n",
    "                        r = i\n",
    "\n",
    "            pivot = tableau[r, n]\n",
    "\n",
    "            print(\"Ведущий столбец:\", n)\n",
    "            print(\"Ведущая строка:\", r)\n",
    "            print(\"Разрешающий элемент: \", pivot)\n",
    "\n",
    "            tableau[r, 1:] = tableau[r, 1:] / pivot\n",
    "\n",
    "            # pivot other rows\n",
    "            for i in range(0, len(tableau)):\n",
    "                if i != r:\n",
    "                    mult = tableau[i, n] / tableau[r, n]\n",
    "                    tableau[i, 1:] = tableau[i, 1:] - mult * tableau[r, 1:]\n",
    "\n",
    "            tableau[r, 0] = n - 2\n",
    "\n",
    "            iter += 1\n",
    "\n",
    "        if (self.printIter == True):\n",
    "            print(\"_________________________\")\n",
    "            print(\"\")\n",
    "            print(\"Окончательный вариант получен за \", iter, \" итераций(ии)\")\n",
    "            self.printTableau(tableau)\n",
    "        else:\n",
    "            print(\"Посчитано\")\n",
    "\n",
    "        self.x = np.array([0] * len(c), dtype=float)\n",
    "\n",
    "        for key in range(1, (len(tableau))):\n",
    "            if (tableau[key, 0] < len(c)):\n",
    "                self.x[int(tableau[key, 0])] = tableau[key, 1]\n",
    "\n",
    "        self.optimalValue = -1 * tableau[0, 1]\n",
    "\n",
    "        return tableau"
   ]
  },
  {
   "cell_type": "markdown",
   "metadata": {},
   "source": [
    "### Разберем практическое решение\n",
    "\n",
    "#### Шаг №1 Составление симплекс-таблицы и опорного плана\n",
    "\n",
    "\n",
    "&#8195;&#8195; Решим прямую задачу линейного программирования симплексным методом, с использованием симплексной таблицы.\n",
    "Определим максимальное значение целевой функции при заданных ранее ограничениях.\n",
    "\n",
    "&#8195;&#8195; Для построения первого опорного плана систему неравенств приведем к системе уравнений путем введения дополнительных переменных (переход к канонической форме).\n",
    "\n",
    "&#8195;&#8195; В 1-м неравенстве вводим базисную переменную x3. В 2-м неравенстве вводим базисную переменную x4. В 3-м неравенстве вводим базисную переменную x5. Базисные переменные это переменные, которые входят только в одно уравнение системы ограничений и притом с единичным коэффициентом. Базисное решение называется допустимым, если оно неотрицательно.\n",
    "Решим систему уравнений относительно базисных переменных: x3, x4, x5\n",
    "Полагая, что свободные переменные равны 0, получим первый опорный план. Если этот план нам подходит, то можем переходить к основному алгоритму симплекс-метода"
   ]
  },
  {
   "cell_type": "code",
   "execution_count": 14,
   "metadata": {
    "ExecuteTime": {
     "end_time": "2021-02-26T16:32:58.781928Z",
     "start_time": "2021-02-26T16:32:58.531010Z"
    },
    "deletable": false,
    "editable": false
   },
   "outputs": [
    {
     "data": {
      "text/html": [
       "<style  type=\"text/css\" >\n",
       "    #T_4951146e_7850_11eb_8aa2_d43d7e35a519 tr:hover {\n",
       "          background-color: #ffff99;\n",
       "    }    #T_4951146e_7850_11eb_8aa2_d43d7e35a519 th {\n",
       "          font-size: 120%;\n",
       "          text-align: center;\n",
       "    }    #T_4951146e_7850_11eb_8aa2_d43d7e35a519 caption {\n",
       "          caption-side: bottom;\n",
       "    }    #T_4951146e_7850_11eb_8aa2_d43d7e35a519 tr {\n",
       "          font-size: 150%;\n",
       "          text-align: center;\n",
       "    }</style><table id=\"T_4951146e_7850_11eb_8aa2_d43d7e35a519\" ><thead>    <tr>        <th class=\"blank level0\" ></th>        <th class=\"col_heading level0 col0\" >New_X</th>        <th class=\"col_heading level0 col1\" >R_S</th>        <th class=\"col_heading level0 col2\" >x_1</th>        <th class=\"col_heading level0 col3\" >x_2</th>        <th class=\"col_heading level0 col4\" >x_3</th>        <th class=\"col_heading level0 col5\" >s_1</th>        <th class=\"col_heading level0 col6\" >s_2</th>        <th class=\"col_heading level0 col7\" >s_3</th>    </tr></thead><tbody>\n",
       "                <tr>\n",
       "                        <th id=\"T_4951146e_7850_11eb_8aa2_d43d7e35a519level0_row0\" class=\"row_heading level0 row0\" >F</th>\n",
       "                        <td id=\"T_4951146e_7850_11eb_8aa2_d43d7e35a519row0_col0\" class=\"data row0 col0\" >nan</td>\n",
       "                        <td id=\"T_4951146e_7850_11eb_8aa2_d43d7e35a519row0_col1\" class=\"data row0 col1\" >0.0</td>\n",
       "                        <td id=\"T_4951146e_7850_11eb_8aa2_d43d7e35a519row0_col2\" class=\"data row0 col2\" >1.0</td>\n",
       "                        <td id=\"T_4951146e_7850_11eb_8aa2_d43d7e35a519row0_col3\" class=\"data row0 col3\" >4.0</td>\n",
       "                        <td id=\"T_4951146e_7850_11eb_8aa2_d43d7e35a519row0_col4\" class=\"data row0 col4\" >3.0</td>\n",
       "                        <td id=\"T_4951146e_7850_11eb_8aa2_d43d7e35a519row0_col5\" class=\"data row0 col5\" >0.0</td>\n",
       "                        <td id=\"T_4951146e_7850_11eb_8aa2_d43d7e35a519row0_col6\" class=\"data row0 col6\" >0.0</td>\n",
       "                        <td id=\"T_4951146e_7850_11eb_8aa2_d43d7e35a519row0_col7\" class=\"data row0 col7\" >0.0</td>\n",
       "            </tr>\n",
       "            <tr>\n",
       "                        <th id=\"T_4951146e_7850_11eb_8aa2_d43d7e35a519level0_row1\" class=\"row_heading level0 row1\" >1</th>\n",
       "                        <td id=\"T_4951146e_7850_11eb_8aa2_d43d7e35a519row1_col0\" class=\"data row1 col0\" >3.0</td>\n",
       "                        <td id=\"T_4951146e_7850_11eb_8aa2_d43d7e35a519row1_col1\" class=\"data row1 col1\" >3.0</td>\n",
       "                        <td id=\"T_4951146e_7850_11eb_8aa2_d43d7e35a519row1_col2\" class=\"data row1 col2\" >3.0</td>\n",
       "                        <td id=\"T_4951146e_7850_11eb_8aa2_d43d7e35a519row1_col3\" class=\"data row1 col3\" >-1.0</td>\n",
       "                        <td id=\"T_4951146e_7850_11eb_8aa2_d43d7e35a519row1_col4\" class=\"data row1 col4\" >2.0</td>\n",
       "                        <td id=\"T_4951146e_7850_11eb_8aa2_d43d7e35a519row1_col5\" class=\"data row1 col5\" >1.0</td>\n",
       "                        <td id=\"T_4951146e_7850_11eb_8aa2_d43d7e35a519row1_col6\" class=\"data row1 col6\" >0.0</td>\n",
       "                        <td id=\"T_4951146e_7850_11eb_8aa2_d43d7e35a519row1_col7\" class=\"data row1 col7\" >0.0</td>\n",
       "            </tr>\n",
       "            <tr>\n",
       "                        <th id=\"T_4951146e_7850_11eb_8aa2_d43d7e35a519level0_row2\" class=\"row_heading level0 row2\" >2</th>\n",
       "                        <td id=\"T_4951146e_7850_11eb_8aa2_d43d7e35a519row2_col0\" class=\"data row2 col0\" >4.0</td>\n",
       "                        <td id=\"T_4951146e_7850_11eb_8aa2_d43d7e35a519row2_col1\" class=\"data row2 col1\" >1.0</td>\n",
       "                        <td id=\"T_4951146e_7850_11eb_8aa2_d43d7e35a519row2_col2\" class=\"data row2 col2\" >-1.0</td>\n",
       "                        <td id=\"T_4951146e_7850_11eb_8aa2_d43d7e35a519row2_col3\" class=\"data row2 col3\" >1.0</td>\n",
       "                        <td id=\"T_4951146e_7850_11eb_8aa2_d43d7e35a519row2_col4\" class=\"data row2 col4\" >-2.0</td>\n",
       "                        <td id=\"T_4951146e_7850_11eb_8aa2_d43d7e35a519row2_col5\" class=\"data row2 col5\" >0.0</td>\n",
       "                        <td id=\"T_4951146e_7850_11eb_8aa2_d43d7e35a519row2_col6\" class=\"data row2 col6\" >1.0</td>\n",
       "                        <td id=\"T_4951146e_7850_11eb_8aa2_d43d7e35a519row2_col7\" class=\"data row2 col7\" >0.0</td>\n",
       "            </tr>\n",
       "            <tr>\n",
       "                        <th id=\"T_4951146e_7850_11eb_8aa2_d43d7e35a519level0_row3\" class=\"row_heading level0 row3\" >3</th>\n",
       "                        <td id=\"T_4951146e_7850_11eb_8aa2_d43d7e35a519row3_col0\" class=\"data row3 col0\" >5.0</td>\n",
       "                        <td id=\"T_4951146e_7850_11eb_8aa2_d43d7e35a519row3_col1\" class=\"data row3 col1\" >4.0</td>\n",
       "                        <td id=\"T_4951146e_7850_11eb_8aa2_d43d7e35a519row3_col2\" class=\"data row3 col2\" >2.0</td>\n",
       "                        <td id=\"T_4951146e_7850_11eb_8aa2_d43d7e35a519row3_col3\" class=\"data row3 col3\" >1.0</td>\n",
       "                        <td id=\"T_4951146e_7850_11eb_8aa2_d43d7e35a519row3_col4\" class=\"data row3 col4\" >3.0</td>\n",
       "                        <td id=\"T_4951146e_7850_11eb_8aa2_d43d7e35a519row3_col5\" class=\"data row3 col5\" >0.0</td>\n",
       "                        <td id=\"T_4951146e_7850_11eb_8aa2_d43d7e35a519row3_col6\" class=\"data row3 col6\" >0.0</td>\n",
       "                        <td id=\"T_4951146e_7850_11eb_8aa2_d43d7e35a519row3_col7\" class=\"data row3 col7\" >1.0</td>\n",
       "            </tr>\n",
       "    </tbody></table>"
      ],
      "text/plain": [
       "<pandas.io.formats.style.Styler at 0x1a75bb18708>"
      ]
     },
     "metadata": {},
     "output_type": "display_data"
    }
   ],
   "source": [
    "model1 = LinearModel()\n",
    "\n",
    "model1.addA(constr)\n",
    "model1.addB(b)\n",
    "model1.addC(c)\n",
    "model1.addSigns(signs)\n",
    "model1.setObj(func_type.value)\n",
    "\n",
    "temp = model1.getTableau()\n",
    "model1.printTableau(temp)"
   ]
  },
  {
   "cell_type": "markdown",
   "metadata": {},
   "source": [
    "#### Шаг №2 Посик оптимального решения\n",
    "\n",
    "&#8195;&#8195; Рассмотрим элементы целевой (фиктивной целевой) строки, стоящие в столбцах $x_1$, ..., $x_{n+m}$. Если среди них имеется хотя бы один отрицательный элемент, то решение надо улучшать по правилам этапа 3.\n",
    "    \n",
    "&#8195;&#8195; Если же все указанные элементы неотрицательны, то в случае, когда анализируется опорное решение по целевой строке z, это означает, что на этом решении функция z достигает максимума и нужно переходить к выписыванию соответствующего оптимального плана (этап 4).\n",
    "    \n",
    "&#8195;&#8195; В случае поиска опорного решения (анализ по фиктивной целевой строке $\\varphi$) вся строка $\\varphi$ должна состоять из нулей, иначе система ограничений противоречива, и ОЗЛП не имеет решения. Получение же нулевой строки $\\varphi$ свидетельствует о том, что опорное решение построено. В этом случае фиктивная целевая строка удаляется из таблицы, а решение анализируется по целевой строке z.\n",
    "\n",
    "&#8195;&#8195; Затем нам необходимо улучшать решение по целевой строке симплекс таблицы."
   ]
  },
  {
   "cell_type": "code",
   "execution_count": 15,
   "metadata": {
    "ExecuteTime": {
     "end_time": "2021-02-26T16:32:58.827912Z",
     "start_time": "2021-02-26T16:32:58.782927Z"
    },
    "deletable": false,
    "editable": false,
    "scrolled": false
   },
   "outputs": [
    {
     "name": "stdout",
     "output_type": "stream",
     "text": [
      "Начальная симплекс-таблица:\n"
     ]
    },
    {
     "data": {
      "text/html": [
       "<style  type=\"text/css\" >\n",
       "    #T_49535e3a_7850_11eb_a93d_d43d7e35a519 tr:hover {\n",
       "          background-color: #ffff99;\n",
       "    }    #T_49535e3a_7850_11eb_a93d_d43d7e35a519 th {\n",
       "          font-size: 120%;\n",
       "          text-align: center;\n",
       "    }    #T_49535e3a_7850_11eb_a93d_d43d7e35a519 caption {\n",
       "          caption-side: bottom;\n",
       "    }    #T_49535e3a_7850_11eb_a93d_d43d7e35a519 tr {\n",
       "          font-size: 150%;\n",
       "          text-align: center;\n",
       "    }</style><table id=\"T_49535e3a_7850_11eb_a93d_d43d7e35a519\" ><thead>    <tr>        <th class=\"blank level0\" ></th>        <th class=\"col_heading level0 col0\" >New_X</th>        <th class=\"col_heading level0 col1\" >R_S</th>        <th class=\"col_heading level0 col2\" >x_1</th>        <th class=\"col_heading level0 col3\" >x_2</th>        <th class=\"col_heading level0 col4\" >x_3</th>        <th class=\"col_heading level0 col5\" >s_1</th>        <th class=\"col_heading level0 col6\" >s_2</th>        <th class=\"col_heading level0 col7\" >s_3</th>    </tr></thead><tbody>\n",
       "                <tr>\n",
       "                        <th id=\"T_49535e3a_7850_11eb_a93d_d43d7e35a519level0_row0\" class=\"row_heading level0 row0\" >F</th>\n",
       "                        <td id=\"T_49535e3a_7850_11eb_a93d_d43d7e35a519row0_col0\" class=\"data row0 col0\" >nan</td>\n",
       "                        <td id=\"T_49535e3a_7850_11eb_a93d_d43d7e35a519row0_col1\" class=\"data row0 col1\" >0.0</td>\n",
       "                        <td id=\"T_49535e3a_7850_11eb_a93d_d43d7e35a519row0_col2\" class=\"data row0 col2\" >1.0</td>\n",
       "                        <td id=\"T_49535e3a_7850_11eb_a93d_d43d7e35a519row0_col3\" class=\"data row0 col3\" >4.0</td>\n",
       "                        <td id=\"T_49535e3a_7850_11eb_a93d_d43d7e35a519row0_col4\" class=\"data row0 col4\" >3.0</td>\n",
       "                        <td id=\"T_49535e3a_7850_11eb_a93d_d43d7e35a519row0_col5\" class=\"data row0 col5\" >0.0</td>\n",
       "                        <td id=\"T_49535e3a_7850_11eb_a93d_d43d7e35a519row0_col6\" class=\"data row0 col6\" >0.0</td>\n",
       "                        <td id=\"T_49535e3a_7850_11eb_a93d_d43d7e35a519row0_col7\" class=\"data row0 col7\" >0.0</td>\n",
       "            </tr>\n",
       "            <tr>\n",
       "                        <th id=\"T_49535e3a_7850_11eb_a93d_d43d7e35a519level0_row1\" class=\"row_heading level0 row1\" >1</th>\n",
       "                        <td id=\"T_49535e3a_7850_11eb_a93d_d43d7e35a519row1_col0\" class=\"data row1 col0\" >3.0</td>\n",
       "                        <td id=\"T_49535e3a_7850_11eb_a93d_d43d7e35a519row1_col1\" class=\"data row1 col1\" >3.0</td>\n",
       "                        <td id=\"T_49535e3a_7850_11eb_a93d_d43d7e35a519row1_col2\" class=\"data row1 col2\" >3.0</td>\n",
       "                        <td id=\"T_49535e3a_7850_11eb_a93d_d43d7e35a519row1_col3\" class=\"data row1 col3\" >-1.0</td>\n",
       "                        <td id=\"T_49535e3a_7850_11eb_a93d_d43d7e35a519row1_col4\" class=\"data row1 col4\" >2.0</td>\n",
       "                        <td id=\"T_49535e3a_7850_11eb_a93d_d43d7e35a519row1_col5\" class=\"data row1 col5\" >1.0</td>\n",
       "                        <td id=\"T_49535e3a_7850_11eb_a93d_d43d7e35a519row1_col6\" class=\"data row1 col6\" >0.0</td>\n",
       "                        <td id=\"T_49535e3a_7850_11eb_a93d_d43d7e35a519row1_col7\" class=\"data row1 col7\" >0.0</td>\n",
       "            </tr>\n",
       "            <tr>\n",
       "                        <th id=\"T_49535e3a_7850_11eb_a93d_d43d7e35a519level0_row2\" class=\"row_heading level0 row2\" >2</th>\n",
       "                        <td id=\"T_49535e3a_7850_11eb_a93d_d43d7e35a519row2_col0\" class=\"data row2 col0\" >4.0</td>\n",
       "                        <td id=\"T_49535e3a_7850_11eb_a93d_d43d7e35a519row2_col1\" class=\"data row2 col1\" >1.0</td>\n",
       "                        <td id=\"T_49535e3a_7850_11eb_a93d_d43d7e35a519row2_col2\" class=\"data row2 col2\" >-1.0</td>\n",
       "                        <td id=\"T_49535e3a_7850_11eb_a93d_d43d7e35a519row2_col3\" class=\"data row2 col3\" >1.0</td>\n",
       "                        <td id=\"T_49535e3a_7850_11eb_a93d_d43d7e35a519row2_col4\" class=\"data row2 col4\" >-2.0</td>\n",
       "                        <td id=\"T_49535e3a_7850_11eb_a93d_d43d7e35a519row2_col5\" class=\"data row2 col5\" >0.0</td>\n",
       "                        <td id=\"T_49535e3a_7850_11eb_a93d_d43d7e35a519row2_col6\" class=\"data row2 col6\" >1.0</td>\n",
       "                        <td id=\"T_49535e3a_7850_11eb_a93d_d43d7e35a519row2_col7\" class=\"data row2 col7\" >0.0</td>\n",
       "            </tr>\n",
       "            <tr>\n",
       "                        <th id=\"T_49535e3a_7850_11eb_a93d_d43d7e35a519level0_row3\" class=\"row_heading level0 row3\" >3</th>\n",
       "                        <td id=\"T_49535e3a_7850_11eb_a93d_d43d7e35a519row3_col0\" class=\"data row3 col0\" >5.0</td>\n",
       "                        <td id=\"T_49535e3a_7850_11eb_a93d_d43d7e35a519row3_col1\" class=\"data row3 col1\" >4.0</td>\n",
       "                        <td id=\"T_49535e3a_7850_11eb_a93d_d43d7e35a519row3_col2\" class=\"data row3 col2\" >2.0</td>\n",
       "                        <td id=\"T_49535e3a_7850_11eb_a93d_d43d7e35a519row3_col3\" class=\"data row3 col3\" >1.0</td>\n",
       "                        <td id=\"T_49535e3a_7850_11eb_a93d_d43d7e35a519row3_col4\" class=\"data row3 col4\" >3.0</td>\n",
       "                        <td id=\"T_49535e3a_7850_11eb_a93d_d43d7e35a519row3_col5\" class=\"data row3 col5\" >0.0</td>\n",
       "                        <td id=\"T_49535e3a_7850_11eb_a93d_d43d7e35a519row3_col6\" class=\"data row3 col6\" >0.0</td>\n",
       "                        <td id=\"T_49535e3a_7850_11eb_a93d_d43d7e35a519row3_col7\" class=\"data row3 col7\" >1.0</td>\n",
       "            </tr>\n",
       "    </tbody></table>"
      ],
      "text/plain": [
       "<pandas.io.formats.style.Styler at 0x1a7109e67c8>"
      ]
     },
     "metadata": {},
     "output_type": "display_data"
    },
    {
     "name": "stdout",
     "output_type": "stream",
     "text": [
      "_________________________\n",
      "\n",
      "Итерация : 1\n"
     ]
    },
    {
     "data": {
      "text/html": [
       "<style  type=\"text/css\" >\n",
       "    #T_4954969e_7850_11eb_abfc_d43d7e35a519 tr:hover {\n",
       "          background-color: #ffff99;\n",
       "    }    #T_4954969e_7850_11eb_abfc_d43d7e35a519 th {\n",
       "          font-size: 120%;\n",
       "          text-align: center;\n",
       "    }    #T_4954969e_7850_11eb_abfc_d43d7e35a519 caption {\n",
       "          caption-side: bottom;\n",
       "    }    #T_4954969e_7850_11eb_abfc_d43d7e35a519 tr {\n",
       "          font-size: 150%;\n",
       "          text-align: center;\n",
       "    }</style><table id=\"T_4954969e_7850_11eb_abfc_d43d7e35a519\" ><thead>    <tr>        <th class=\"blank level0\" ></th>        <th class=\"col_heading level0 col0\" >New_X</th>        <th class=\"col_heading level0 col1\" >R_S</th>        <th class=\"col_heading level0 col2\" >x_1</th>        <th class=\"col_heading level0 col3\" >x_2</th>        <th class=\"col_heading level0 col4\" >x_3</th>        <th class=\"col_heading level0 col5\" >s_1</th>        <th class=\"col_heading level0 col6\" >s_2</th>        <th class=\"col_heading level0 col7\" >s_3</th>    </tr></thead><tbody>\n",
       "                <tr>\n",
       "                        <th id=\"T_4954969e_7850_11eb_abfc_d43d7e35a519level0_row0\" class=\"row_heading level0 row0\" >F</th>\n",
       "                        <td id=\"T_4954969e_7850_11eb_abfc_d43d7e35a519row0_col0\" class=\"data row0 col0\" >nan</td>\n",
       "                        <td id=\"T_4954969e_7850_11eb_abfc_d43d7e35a519row0_col1\" class=\"data row0 col1\" >0.0</td>\n",
       "                        <td id=\"T_4954969e_7850_11eb_abfc_d43d7e35a519row0_col2\" class=\"data row0 col2\" >1.0</td>\n",
       "                        <td id=\"T_4954969e_7850_11eb_abfc_d43d7e35a519row0_col3\" class=\"data row0 col3\" >4.0</td>\n",
       "                        <td id=\"T_4954969e_7850_11eb_abfc_d43d7e35a519row0_col4\" class=\"data row0 col4\" >3.0</td>\n",
       "                        <td id=\"T_4954969e_7850_11eb_abfc_d43d7e35a519row0_col5\" class=\"data row0 col5\" >0.0</td>\n",
       "                        <td id=\"T_4954969e_7850_11eb_abfc_d43d7e35a519row0_col6\" class=\"data row0 col6\" >0.0</td>\n",
       "                        <td id=\"T_4954969e_7850_11eb_abfc_d43d7e35a519row0_col7\" class=\"data row0 col7\" >0.0</td>\n",
       "            </tr>\n",
       "            <tr>\n",
       "                        <th id=\"T_4954969e_7850_11eb_abfc_d43d7e35a519level0_row1\" class=\"row_heading level0 row1\" >1</th>\n",
       "                        <td id=\"T_4954969e_7850_11eb_abfc_d43d7e35a519row1_col0\" class=\"data row1 col0\" >3.0</td>\n",
       "                        <td id=\"T_4954969e_7850_11eb_abfc_d43d7e35a519row1_col1\" class=\"data row1 col1\" >3.0</td>\n",
       "                        <td id=\"T_4954969e_7850_11eb_abfc_d43d7e35a519row1_col2\" class=\"data row1 col2\" >3.0</td>\n",
       "                        <td id=\"T_4954969e_7850_11eb_abfc_d43d7e35a519row1_col3\" class=\"data row1 col3\" >-1.0</td>\n",
       "                        <td id=\"T_4954969e_7850_11eb_abfc_d43d7e35a519row1_col4\" class=\"data row1 col4\" >2.0</td>\n",
       "                        <td id=\"T_4954969e_7850_11eb_abfc_d43d7e35a519row1_col5\" class=\"data row1 col5\" >1.0</td>\n",
       "                        <td id=\"T_4954969e_7850_11eb_abfc_d43d7e35a519row1_col6\" class=\"data row1 col6\" >0.0</td>\n",
       "                        <td id=\"T_4954969e_7850_11eb_abfc_d43d7e35a519row1_col7\" class=\"data row1 col7\" >0.0</td>\n",
       "            </tr>\n",
       "            <tr>\n",
       "                        <th id=\"T_4954969e_7850_11eb_abfc_d43d7e35a519level0_row2\" class=\"row_heading level0 row2\" >2</th>\n",
       "                        <td id=\"T_4954969e_7850_11eb_abfc_d43d7e35a519row2_col0\" class=\"data row2 col0\" >4.0</td>\n",
       "                        <td id=\"T_4954969e_7850_11eb_abfc_d43d7e35a519row2_col1\" class=\"data row2 col1\" >1.0</td>\n",
       "                        <td id=\"T_4954969e_7850_11eb_abfc_d43d7e35a519row2_col2\" class=\"data row2 col2\" >-1.0</td>\n",
       "                        <td id=\"T_4954969e_7850_11eb_abfc_d43d7e35a519row2_col3\" class=\"data row2 col3\" >1.0</td>\n",
       "                        <td id=\"T_4954969e_7850_11eb_abfc_d43d7e35a519row2_col4\" class=\"data row2 col4\" >-2.0</td>\n",
       "                        <td id=\"T_4954969e_7850_11eb_abfc_d43d7e35a519row2_col5\" class=\"data row2 col5\" >0.0</td>\n",
       "                        <td id=\"T_4954969e_7850_11eb_abfc_d43d7e35a519row2_col6\" class=\"data row2 col6\" >1.0</td>\n",
       "                        <td id=\"T_4954969e_7850_11eb_abfc_d43d7e35a519row2_col7\" class=\"data row2 col7\" >0.0</td>\n",
       "            </tr>\n",
       "            <tr>\n",
       "                        <th id=\"T_4954969e_7850_11eb_abfc_d43d7e35a519level0_row3\" class=\"row_heading level0 row3\" >3</th>\n",
       "                        <td id=\"T_4954969e_7850_11eb_abfc_d43d7e35a519row3_col0\" class=\"data row3 col0\" >5.0</td>\n",
       "                        <td id=\"T_4954969e_7850_11eb_abfc_d43d7e35a519row3_col1\" class=\"data row3 col1\" >4.0</td>\n",
       "                        <td id=\"T_4954969e_7850_11eb_abfc_d43d7e35a519row3_col2\" class=\"data row3 col2\" >2.0</td>\n",
       "                        <td id=\"T_4954969e_7850_11eb_abfc_d43d7e35a519row3_col3\" class=\"data row3 col3\" >1.0</td>\n",
       "                        <td id=\"T_4954969e_7850_11eb_abfc_d43d7e35a519row3_col4\" class=\"data row3 col4\" >3.0</td>\n",
       "                        <td id=\"T_4954969e_7850_11eb_abfc_d43d7e35a519row3_col5\" class=\"data row3 col5\" >0.0</td>\n",
       "                        <td id=\"T_4954969e_7850_11eb_abfc_d43d7e35a519row3_col6\" class=\"data row3 col6\" >0.0</td>\n",
       "                        <td id=\"T_4954969e_7850_11eb_abfc_d43d7e35a519row3_col7\" class=\"data row3 col7\" >1.0</td>\n",
       "            </tr>\n",
       "    </tbody></table>"
      ],
      "text/plain": [
       "<pandas.io.formats.style.Styler at 0x1a714578288>"
      ]
     },
     "metadata": {},
     "output_type": "display_data"
    },
    {
     "name": "stdout",
     "output_type": "stream",
     "text": [
      "Ведущий столбец: 3\n",
      "Ведущая строка: 2\n",
      "Разрешающий элемент:  1.0\n",
      "_________________________\n",
      "\n",
      "Итерация : 2\n"
     ]
    },
    {
     "data": {
      "text/html": [
       "<style  type=\"text/css\" >\n",
       "    #T_495559e4_7850_11eb_bf01_d43d7e35a519 tr:hover {\n",
       "          background-color: #ffff99;\n",
       "    }    #T_495559e4_7850_11eb_bf01_d43d7e35a519 th {\n",
       "          font-size: 120%;\n",
       "          text-align: center;\n",
       "    }    #T_495559e4_7850_11eb_bf01_d43d7e35a519 caption {\n",
       "          caption-side: bottom;\n",
       "    }    #T_495559e4_7850_11eb_bf01_d43d7e35a519 tr {\n",
       "          font-size: 150%;\n",
       "          text-align: center;\n",
       "    }</style><table id=\"T_495559e4_7850_11eb_bf01_d43d7e35a519\" ><thead>    <tr>        <th class=\"blank level0\" ></th>        <th class=\"col_heading level0 col0\" >New_X</th>        <th class=\"col_heading level0 col1\" >R_S</th>        <th class=\"col_heading level0 col2\" >x_1</th>        <th class=\"col_heading level0 col3\" >x_2</th>        <th class=\"col_heading level0 col4\" >x_3</th>        <th class=\"col_heading level0 col5\" >s_1</th>        <th class=\"col_heading level0 col6\" >s_2</th>        <th class=\"col_heading level0 col7\" >s_3</th>    </tr></thead><tbody>\n",
       "                <tr>\n",
       "                        <th id=\"T_495559e4_7850_11eb_bf01_d43d7e35a519level0_row0\" class=\"row_heading level0 row0\" >F</th>\n",
       "                        <td id=\"T_495559e4_7850_11eb_bf01_d43d7e35a519row0_col0\" class=\"data row0 col0\" >nan</td>\n",
       "                        <td id=\"T_495559e4_7850_11eb_bf01_d43d7e35a519row0_col1\" class=\"data row0 col1\" >-4.0</td>\n",
       "                        <td id=\"T_495559e4_7850_11eb_bf01_d43d7e35a519row0_col2\" class=\"data row0 col2\" >5.0</td>\n",
       "                        <td id=\"T_495559e4_7850_11eb_bf01_d43d7e35a519row0_col3\" class=\"data row0 col3\" >0.0</td>\n",
       "                        <td id=\"T_495559e4_7850_11eb_bf01_d43d7e35a519row0_col4\" class=\"data row0 col4\" >11.0</td>\n",
       "                        <td id=\"T_495559e4_7850_11eb_bf01_d43d7e35a519row0_col5\" class=\"data row0 col5\" >0.0</td>\n",
       "                        <td id=\"T_495559e4_7850_11eb_bf01_d43d7e35a519row0_col6\" class=\"data row0 col6\" >-4.0</td>\n",
       "                        <td id=\"T_495559e4_7850_11eb_bf01_d43d7e35a519row0_col7\" class=\"data row0 col7\" >0.0</td>\n",
       "            </tr>\n",
       "            <tr>\n",
       "                        <th id=\"T_495559e4_7850_11eb_bf01_d43d7e35a519level0_row1\" class=\"row_heading level0 row1\" >1</th>\n",
       "                        <td id=\"T_495559e4_7850_11eb_bf01_d43d7e35a519row1_col0\" class=\"data row1 col0\" >3.0</td>\n",
       "                        <td id=\"T_495559e4_7850_11eb_bf01_d43d7e35a519row1_col1\" class=\"data row1 col1\" >4.0</td>\n",
       "                        <td id=\"T_495559e4_7850_11eb_bf01_d43d7e35a519row1_col2\" class=\"data row1 col2\" >2.0</td>\n",
       "                        <td id=\"T_495559e4_7850_11eb_bf01_d43d7e35a519row1_col3\" class=\"data row1 col3\" >0.0</td>\n",
       "                        <td id=\"T_495559e4_7850_11eb_bf01_d43d7e35a519row1_col4\" class=\"data row1 col4\" >0.0</td>\n",
       "                        <td id=\"T_495559e4_7850_11eb_bf01_d43d7e35a519row1_col5\" class=\"data row1 col5\" >1.0</td>\n",
       "                        <td id=\"T_495559e4_7850_11eb_bf01_d43d7e35a519row1_col6\" class=\"data row1 col6\" >1.0</td>\n",
       "                        <td id=\"T_495559e4_7850_11eb_bf01_d43d7e35a519row1_col7\" class=\"data row1 col7\" >0.0</td>\n",
       "            </tr>\n",
       "            <tr>\n",
       "                        <th id=\"T_495559e4_7850_11eb_bf01_d43d7e35a519level0_row2\" class=\"row_heading level0 row2\" >2</th>\n",
       "                        <td id=\"T_495559e4_7850_11eb_bf01_d43d7e35a519row2_col0\" class=\"data row2 col0\" >1.0</td>\n",
       "                        <td id=\"T_495559e4_7850_11eb_bf01_d43d7e35a519row2_col1\" class=\"data row2 col1\" >1.0</td>\n",
       "                        <td id=\"T_495559e4_7850_11eb_bf01_d43d7e35a519row2_col2\" class=\"data row2 col2\" >-1.0</td>\n",
       "                        <td id=\"T_495559e4_7850_11eb_bf01_d43d7e35a519row2_col3\" class=\"data row2 col3\" >1.0</td>\n",
       "                        <td id=\"T_495559e4_7850_11eb_bf01_d43d7e35a519row2_col4\" class=\"data row2 col4\" >-2.0</td>\n",
       "                        <td id=\"T_495559e4_7850_11eb_bf01_d43d7e35a519row2_col5\" class=\"data row2 col5\" >0.0</td>\n",
       "                        <td id=\"T_495559e4_7850_11eb_bf01_d43d7e35a519row2_col6\" class=\"data row2 col6\" >1.0</td>\n",
       "                        <td id=\"T_495559e4_7850_11eb_bf01_d43d7e35a519row2_col7\" class=\"data row2 col7\" >0.0</td>\n",
       "            </tr>\n",
       "            <tr>\n",
       "                        <th id=\"T_495559e4_7850_11eb_bf01_d43d7e35a519level0_row3\" class=\"row_heading level0 row3\" >3</th>\n",
       "                        <td id=\"T_495559e4_7850_11eb_bf01_d43d7e35a519row3_col0\" class=\"data row3 col0\" >5.0</td>\n",
       "                        <td id=\"T_495559e4_7850_11eb_bf01_d43d7e35a519row3_col1\" class=\"data row3 col1\" >3.0</td>\n",
       "                        <td id=\"T_495559e4_7850_11eb_bf01_d43d7e35a519row3_col2\" class=\"data row3 col2\" >3.0</td>\n",
       "                        <td id=\"T_495559e4_7850_11eb_bf01_d43d7e35a519row3_col3\" class=\"data row3 col3\" >0.0</td>\n",
       "                        <td id=\"T_495559e4_7850_11eb_bf01_d43d7e35a519row3_col4\" class=\"data row3 col4\" >5.0</td>\n",
       "                        <td id=\"T_495559e4_7850_11eb_bf01_d43d7e35a519row3_col5\" class=\"data row3 col5\" >0.0</td>\n",
       "                        <td id=\"T_495559e4_7850_11eb_bf01_d43d7e35a519row3_col6\" class=\"data row3 col6\" >-1.0</td>\n",
       "                        <td id=\"T_495559e4_7850_11eb_bf01_d43d7e35a519row3_col7\" class=\"data row3 col7\" >1.0</td>\n",
       "            </tr>\n",
       "    </tbody></table>"
      ],
      "text/plain": [
       "<pandas.io.formats.style.Styler at 0x1a714542788>"
      ]
     },
     "metadata": {},
     "output_type": "display_data"
    },
    {
     "name": "stdout",
     "output_type": "stream",
     "text": [
      "Ведущий столбец: 4\n",
      "Ведущая строка: 3\n",
      "Разрешающий элемент:  5.0\n",
      "_________________________\n",
      "\n",
      "Итерация : 3\n"
     ]
    },
    {
     "data": {
      "text/html": [
       "<style  type=\"text/css\" >\n",
       "    #T_49561d18_7850_11eb_8f7a_d43d7e35a519 tr:hover {\n",
       "          background-color: #ffff99;\n",
       "    }    #T_49561d18_7850_11eb_8f7a_d43d7e35a519 th {\n",
       "          font-size: 120%;\n",
       "          text-align: center;\n",
       "    }    #T_49561d18_7850_11eb_8f7a_d43d7e35a519 caption {\n",
       "          caption-side: bottom;\n",
       "    }    #T_49561d18_7850_11eb_8f7a_d43d7e35a519 tr {\n",
       "          font-size: 150%;\n",
       "          text-align: center;\n",
       "    }</style><table id=\"T_49561d18_7850_11eb_8f7a_d43d7e35a519\" ><thead>    <tr>        <th class=\"blank level0\" ></th>        <th class=\"col_heading level0 col0\" >New_X</th>        <th class=\"col_heading level0 col1\" >R_S</th>        <th class=\"col_heading level0 col2\" >x_1</th>        <th class=\"col_heading level0 col3\" >x_2</th>        <th class=\"col_heading level0 col4\" >x_3</th>        <th class=\"col_heading level0 col5\" >s_1</th>        <th class=\"col_heading level0 col6\" >s_2</th>        <th class=\"col_heading level0 col7\" >s_3</th>    </tr></thead><tbody>\n",
       "                <tr>\n",
       "                        <th id=\"T_49561d18_7850_11eb_8f7a_d43d7e35a519level0_row0\" class=\"row_heading level0 row0\" >F</th>\n",
       "                        <td id=\"T_49561d18_7850_11eb_8f7a_d43d7e35a519row0_col0\" class=\"data row0 col0\" >nan</td>\n",
       "                        <td id=\"T_49561d18_7850_11eb_8f7a_d43d7e35a519row0_col1\" class=\"data row0 col1\" >-10.6</td>\n",
       "                        <td id=\"T_49561d18_7850_11eb_8f7a_d43d7e35a519row0_col2\" class=\"data row0 col2\" >-1.6</td>\n",
       "                        <td id=\"T_49561d18_7850_11eb_8f7a_d43d7e35a519row0_col3\" class=\"data row0 col3\" >0.0</td>\n",
       "                        <td id=\"T_49561d18_7850_11eb_8f7a_d43d7e35a519row0_col4\" class=\"data row0 col4\" >0.0</td>\n",
       "                        <td id=\"T_49561d18_7850_11eb_8f7a_d43d7e35a519row0_col5\" class=\"data row0 col5\" >0.0</td>\n",
       "                        <td id=\"T_49561d18_7850_11eb_8f7a_d43d7e35a519row0_col6\" class=\"data row0 col6\" >-1.8</td>\n",
       "                        <td id=\"T_49561d18_7850_11eb_8f7a_d43d7e35a519row0_col7\" class=\"data row0 col7\" >-2.2</td>\n",
       "            </tr>\n",
       "            <tr>\n",
       "                        <th id=\"T_49561d18_7850_11eb_8f7a_d43d7e35a519level0_row1\" class=\"row_heading level0 row1\" >1</th>\n",
       "                        <td id=\"T_49561d18_7850_11eb_8f7a_d43d7e35a519row1_col0\" class=\"data row1 col0\" >3.0</td>\n",
       "                        <td id=\"T_49561d18_7850_11eb_8f7a_d43d7e35a519row1_col1\" class=\"data row1 col1\" >4.0</td>\n",
       "                        <td id=\"T_49561d18_7850_11eb_8f7a_d43d7e35a519row1_col2\" class=\"data row1 col2\" >2.0</td>\n",
       "                        <td id=\"T_49561d18_7850_11eb_8f7a_d43d7e35a519row1_col3\" class=\"data row1 col3\" >0.0</td>\n",
       "                        <td id=\"T_49561d18_7850_11eb_8f7a_d43d7e35a519row1_col4\" class=\"data row1 col4\" >0.0</td>\n",
       "                        <td id=\"T_49561d18_7850_11eb_8f7a_d43d7e35a519row1_col5\" class=\"data row1 col5\" >1.0</td>\n",
       "                        <td id=\"T_49561d18_7850_11eb_8f7a_d43d7e35a519row1_col6\" class=\"data row1 col6\" >1.0</td>\n",
       "                        <td id=\"T_49561d18_7850_11eb_8f7a_d43d7e35a519row1_col7\" class=\"data row1 col7\" >0.0</td>\n",
       "            </tr>\n",
       "            <tr>\n",
       "                        <th id=\"T_49561d18_7850_11eb_8f7a_d43d7e35a519level0_row2\" class=\"row_heading level0 row2\" >2</th>\n",
       "                        <td id=\"T_49561d18_7850_11eb_8f7a_d43d7e35a519row2_col0\" class=\"data row2 col0\" >1.0</td>\n",
       "                        <td id=\"T_49561d18_7850_11eb_8f7a_d43d7e35a519row2_col1\" class=\"data row2 col1\" >2.2</td>\n",
       "                        <td id=\"T_49561d18_7850_11eb_8f7a_d43d7e35a519row2_col2\" class=\"data row2 col2\" >0.2</td>\n",
       "                        <td id=\"T_49561d18_7850_11eb_8f7a_d43d7e35a519row2_col3\" class=\"data row2 col3\" >1.0</td>\n",
       "                        <td id=\"T_49561d18_7850_11eb_8f7a_d43d7e35a519row2_col4\" class=\"data row2 col4\" >0.0</td>\n",
       "                        <td id=\"T_49561d18_7850_11eb_8f7a_d43d7e35a519row2_col5\" class=\"data row2 col5\" >0.0</td>\n",
       "                        <td id=\"T_49561d18_7850_11eb_8f7a_d43d7e35a519row2_col6\" class=\"data row2 col6\" >0.6</td>\n",
       "                        <td id=\"T_49561d18_7850_11eb_8f7a_d43d7e35a519row2_col7\" class=\"data row2 col7\" >0.4</td>\n",
       "            </tr>\n",
       "            <tr>\n",
       "                        <th id=\"T_49561d18_7850_11eb_8f7a_d43d7e35a519level0_row3\" class=\"row_heading level0 row3\" >3</th>\n",
       "                        <td id=\"T_49561d18_7850_11eb_8f7a_d43d7e35a519row3_col0\" class=\"data row3 col0\" >2.0</td>\n",
       "                        <td id=\"T_49561d18_7850_11eb_8f7a_d43d7e35a519row3_col1\" class=\"data row3 col1\" >0.6</td>\n",
       "                        <td id=\"T_49561d18_7850_11eb_8f7a_d43d7e35a519row3_col2\" class=\"data row3 col2\" >0.6</td>\n",
       "                        <td id=\"T_49561d18_7850_11eb_8f7a_d43d7e35a519row3_col3\" class=\"data row3 col3\" >0.0</td>\n",
       "                        <td id=\"T_49561d18_7850_11eb_8f7a_d43d7e35a519row3_col4\" class=\"data row3 col4\" >1.0</td>\n",
       "                        <td id=\"T_49561d18_7850_11eb_8f7a_d43d7e35a519row3_col5\" class=\"data row3 col5\" >0.0</td>\n",
       "                        <td id=\"T_49561d18_7850_11eb_8f7a_d43d7e35a519row3_col6\" class=\"data row3 col6\" >-0.2</td>\n",
       "                        <td id=\"T_49561d18_7850_11eb_8f7a_d43d7e35a519row3_col7\" class=\"data row3 col7\" >0.2</td>\n",
       "            </tr>\n",
       "    </tbody></table>"
      ],
      "text/plain": [
       "<pandas.io.formats.style.Styler at 0x1a7120ef6c8>"
      ]
     },
     "metadata": {},
     "output_type": "display_data"
    },
    {
     "name": "stdout",
     "output_type": "stream",
     "text": [
      "_________________________\n",
      "\n",
      "Окончательный вариант получен за  3  итераций(ии)\n"
     ]
    },
    {
     "data": {
      "text/html": [
       "<style  type=\"text/css\" >\n",
       "    #T_4956e058_7850_11eb_98ef_d43d7e35a519 tr:hover {\n",
       "          background-color: #ffff99;\n",
       "    }    #T_4956e058_7850_11eb_98ef_d43d7e35a519 th {\n",
       "          font-size: 120%;\n",
       "          text-align: center;\n",
       "    }    #T_4956e058_7850_11eb_98ef_d43d7e35a519 caption {\n",
       "          caption-side: bottom;\n",
       "    }    #T_4956e058_7850_11eb_98ef_d43d7e35a519 tr {\n",
       "          font-size: 150%;\n",
       "          text-align: center;\n",
       "    }</style><table id=\"T_4956e058_7850_11eb_98ef_d43d7e35a519\" ><thead>    <tr>        <th class=\"blank level0\" ></th>        <th class=\"col_heading level0 col0\" >New_X</th>        <th class=\"col_heading level0 col1\" >R_S</th>        <th class=\"col_heading level0 col2\" >x_1</th>        <th class=\"col_heading level0 col3\" >x_2</th>        <th class=\"col_heading level0 col4\" >x_3</th>        <th class=\"col_heading level0 col5\" >s_1</th>        <th class=\"col_heading level0 col6\" >s_2</th>        <th class=\"col_heading level0 col7\" >s_3</th>    </tr></thead><tbody>\n",
       "                <tr>\n",
       "                        <th id=\"T_4956e058_7850_11eb_98ef_d43d7e35a519level0_row0\" class=\"row_heading level0 row0\" >F</th>\n",
       "                        <td id=\"T_4956e058_7850_11eb_98ef_d43d7e35a519row0_col0\" class=\"data row0 col0\" >nan</td>\n",
       "                        <td id=\"T_4956e058_7850_11eb_98ef_d43d7e35a519row0_col1\" class=\"data row0 col1\" >-10.6</td>\n",
       "                        <td id=\"T_4956e058_7850_11eb_98ef_d43d7e35a519row0_col2\" class=\"data row0 col2\" >-1.6</td>\n",
       "                        <td id=\"T_4956e058_7850_11eb_98ef_d43d7e35a519row0_col3\" class=\"data row0 col3\" >0.0</td>\n",
       "                        <td id=\"T_4956e058_7850_11eb_98ef_d43d7e35a519row0_col4\" class=\"data row0 col4\" >0.0</td>\n",
       "                        <td id=\"T_4956e058_7850_11eb_98ef_d43d7e35a519row0_col5\" class=\"data row0 col5\" >0.0</td>\n",
       "                        <td id=\"T_4956e058_7850_11eb_98ef_d43d7e35a519row0_col6\" class=\"data row0 col6\" >-1.8</td>\n",
       "                        <td id=\"T_4956e058_7850_11eb_98ef_d43d7e35a519row0_col7\" class=\"data row0 col7\" >-2.2</td>\n",
       "            </tr>\n",
       "            <tr>\n",
       "                        <th id=\"T_4956e058_7850_11eb_98ef_d43d7e35a519level0_row1\" class=\"row_heading level0 row1\" >1</th>\n",
       "                        <td id=\"T_4956e058_7850_11eb_98ef_d43d7e35a519row1_col0\" class=\"data row1 col0\" >3.0</td>\n",
       "                        <td id=\"T_4956e058_7850_11eb_98ef_d43d7e35a519row1_col1\" class=\"data row1 col1\" >4.0</td>\n",
       "                        <td id=\"T_4956e058_7850_11eb_98ef_d43d7e35a519row1_col2\" class=\"data row1 col2\" >2.0</td>\n",
       "                        <td id=\"T_4956e058_7850_11eb_98ef_d43d7e35a519row1_col3\" class=\"data row1 col3\" >0.0</td>\n",
       "                        <td id=\"T_4956e058_7850_11eb_98ef_d43d7e35a519row1_col4\" class=\"data row1 col4\" >0.0</td>\n",
       "                        <td id=\"T_4956e058_7850_11eb_98ef_d43d7e35a519row1_col5\" class=\"data row1 col5\" >1.0</td>\n",
       "                        <td id=\"T_4956e058_7850_11eb_98ef_d43d7e35a519row1_col6\" class=\"data row1 col6\" >1.0</td>\n",
       "                        <td id=\"T_4956e058_7850_11eb_98ef_d43d7e35a519row1_col7\" class=\"data row1 col7\" >0.0</td>\n",
       "            </tr>\n",
       "            <tr>\n",
       "                        <th id=\"T_4956e058_7850_11eb_98ef_d43d7e35a519level0_row2\" class=\"row_heading level0 row2\" >2</th>\n",
       "                        <td id=\"T_4956e058_7850_11eb_98ef_d43d7e35a519row2_col0\" class=\"data row2 col0\" >1.0</td>\n",
       "                        <td id=\"T_4956e058_7850_11eb_98ef_d43d7e35a519row2_col1\" class=\"data row2 col1\" >2.2</td>\n",
       "                        <td id=\"T_4956e058_7850_11eb_98ef_d43d7e35a519row2_col2\" class=\"data row2 col2\" >0.2</td>\n",
       "                        <td id=\"T_4956e058_7850_11eb_98ef_d43d7e35a519row2_col3\" class=\"data row2 col3\" >1.0</td>\n",
       "                        <td id=\"T_4956e058_7850_11eb_98ef_d43d7e35a519row2_col4\" class=\"data row2 col4\" >0.0</td>\n",
       "                        <td id=\"T_4956e058_7850_11eb_98ef_d43d7e35a519row2_col5\" class=\"data row2 col5\" >0.0</td>\n",
       "                        <td id=\"T_4956e058_7850_11eb_98ef_d43d7e35a519row2_col6\" class=\"data row2 col6\" >0.6</td>\n",
       "                        <td id=\"T_4956e058_7850_11eb_98ef_d43d7e35a519row2_col7\" class=\"data row2 col7\" >0.4</td>\n",
       "            </tr>\n",
       "            <tr>\n",
       "                        <th id=\"T_4956e058_7850_11eb_98ef_d43d7e35a519level0_row3\" class=\"row_heading level0 row3\" >3</th>\n",
       "                        <td id=\"T_4956e058_7850_11eb_98ef_d43d7e35a519row3_col0\" class=\"data row3 col0\" >2.0</td>\n",
       "                        <td id=\"T_4956e058_7850_11eb_98ef_d43d7e35a519row3_col1\" class=\"data row3 col1\" >0.6</td>\n",
       "                        <td id=\"T_4956e058_7850_11eb_98ef_d43d7e35a519row3_col2\" class=\"data row3 col2\" >0.6</td>\n",
       "                        <td id=\"T_4956e058_7850_11eb_98ef_d43d7e35a519row3_col3\" class=\"data row3 col3\" >0.0</td>\n",
       "                        <td id=\"T_4956e058_7850_11eb_98ef_d43d7e35a519row3_col4\" class=\"data row3 col4\" >1.0</td>\n",
       "                        <td id=\"T_4956e058_7850_11eb_98ef_d43d7e35a519row3_col5\" class=\"data row3 col5\" >0.0</td>\n",
       "                        <td id=\"T_4956e058_7850_11eb_98ef_d43d7e35a519row3_col6\" class=\"data row3 col6\" >-0.2</td>\n",
       "                        <td id=\"T_4956e058_7850_11eb_98ef_d43d7e35a519row3_col7\" class=\"data row3 col7\" >0.2</td>\n",
       "            </tr>\n",
       "    </tbody></table>"
      ],
      "text/plain": [
       "<pandas.io.formats.style.Styler at 0x1a7120f0308>"
      ]
     },
     "metadata": {},
     "output_type": "display_data"
    }
   ],
   "source": [
    "temp1 = model1.optimize()"
   ]
  },
  {
   "cell_type": "markdown",
   "metadata": {},
   "source": [
    "#### Шаг №3 Проверка решения на оптимальность.\n",
    "\n",
    "&#8195;&#8195; Проверка критерия оптимальности.\n",
    "\n",
    "&#8195;&#8195; Среди значений индексной строки нет отрицательных. Поэтому эта таблица определяет оптимальный план задачи.\n",
    "\n",
    "&#8195;&#8195;Окончательный вариант симплекс-таблицы:"
   ]
  },
  {
   "cell_type": "code",
   "execution_count": 16,
   "metadata": {
    "ExecuteTime": {
     "end_time": "2021-02-26T16:32:58.842907Z",
     "start_time": "2021-02-26T16:32:58.828911Z"
    },
    "deletable": false,
    "editable": false
   },
   "outputs": [
    {
     "data": {
      "text/html": [
       "<style  type=\"text/css\" >\n",
       "    #T_495a898a_7850_11eb_bfe5_d43d7e35a519 tr:hover {\n",
       "          background-color: #ffff99;\n",
       "    }    #T_495a898a_7850_11eb_bfe5_d43d7e35a519 th {\n",
       "          font-size: 120%;\n",
       "          text-align: center;\n",
       "    }    #T_495a898a_7850_11eb_bfe5_d43d7e35a519 caption {\n",
       "          caption-side: bottom;\n",
       "    }    #T_495a898a_7850_11eb_bfe5_d43d7e35a519 tr {\n",
       "          font-size: 150%;\n",
       "          text-align: center;\n",
       "    }</style><table id=\"T_495a898a_7850_11eb_bfe5_d43d7e35a519\" ><thead>    <tr>        <th class=\"blank level0\" ></th>        <th class=\"col_heading level0 col0\" >New_X</th>        <th class=\"col_heading level0 col1\" >R_S</th>        <th class=\"col_heading level0 col2\" >x_1</th>        <th class=\"col_heading level0 col3\" >x_2</th>        <th class=\"col_heading level0 col4\" >x_3</th>        <th class=\"col_heading level0 col5\" >s_1</th>        <th class=\"col_heading level0 col6\" >s_2</th>        <th class=\"col_heading level0 col7\" >s_3</th>    </tr></thead><tbody>\n",
       "                <tr>\n",
       "                        <th id=\"T_495a898a_7850_11eb_bfe5_d43d7e35a519level0_row0\" class=\"row_heading level0 row0\" >F</th>\n",
       "                        <td id=\"T_495a898a_7850_11eb_bfe5_d43d7e35a519row0_col0\" class=\"data row0 col0\" >nan</td>\n",
       "                        <td id=\"T_495a898a_7850_11eb_bfe5_d43d7e35a519row0_col1\" class=\"data row0 col1\" >-10.6</td>\n",
       "                        <td id=\"T_495a898a_7850_11eb_bfe5_d43d7e35a519row0_col2\" class=\"data row0 col2\" >-1.6</td>\n",
       "                        <td id=\"T_495a898a_7850_11eb_bfe5_d43d7e35a519row0_col3\" class=\"data row0 col3\" >0.0</td>\n",
       "                        <td id=\"T_495a898a_7850_11eb_bfe5_d43d7e35a519row0_col4\" class=\"data row0 col4\" >0.0</td>\n",
       "                        <td id=\"T_495a898a_7850_11eb_bfe5_d43d7e35a519row0_col5\" class=\"data row0 col5\" >0.0</td>\n",
       "                        <td id=\"T_495a898a_7850_11eb_bfe5_d43d7e35a519row0_col6\" class=\"data row0 col6\" >-1.8</td>\n",
       "                        <td id=\"T_495a898a_7850_11eb_bfe5_d43d7e35a519row0_col7\" class=\"data row0 col7\" >-2.2</td>\n",
       "            </tr>\n",
       "            <tr>\n",
       "                        <th id=\"T_495a898a_7850_11eb_bfe5_d43d7e35a519level0_row1\" class=\"row_heading level0 row1\" >1</th>\n",
       "                        <td id=\"T_495a898a_7850_11eb_bfe5_d43d7e35a519row1_col0\" class=\"data row1 col0\" >3.0</td>\n",
       "                        <td id=\"T_495a898a_7850_11eb_bfe5_d43d7e35a519row1_col1\" class=\"data row1 col1\" >4.0</td>\n",
       "                        <td id=\"T_495a898a_7850_11eb_bfe5_d43d7e35a519row1_col2\" class=\"data row1 col2\" >2.0</td>\n",
       "                        <td id=\"T_495a898a_7850_11eb_bfe5_d43d7e35a519row1_col3\" class=\"data row1 col3\" >0.0</td>\n",
       "                        <td id=\"T_495a898a_7850_11eb_bfe5_d43d7e35a519row1_col4\" class=\"data row1 col4\" >0.0</td>\n",
       "                        <td id=\"T_495a898a_7850_11eb_bfe5_d43d7e35a519row1_col5\" class=\"data row1 col5\" >1.0</td>\n",
       "                        <td id=\"T_495a898a_7850_11eb_bfe5_d43d7e35a519row1_col6\" class=\"data row1 col6\" >1.0</td>\n",
       "                        <td id=\"T_495a898a_7850_11eb_bfe5_d43d7e35a519row1_col7\" class=\"data row1 col7\" >0.0</td>\n",
       "            </tr>\n",
       "            <tr>\n",
       "                        <th id=\"T_495a898a_7850_11eb_bfe5_d43d7e35a519level0_row2\" class=\"row_heading level0 row2\" >2</th>\n",
       "                        <td id=\"T_495a898a_7850_11eb_bfe5_d43d7e35a519row2_col0\" class=\"data row2 col0\" >1.0</td>\n",
       "                        <td id=\"T_495a898a_7850_11eb_bfe5_d43d7e35a519row2_col1\" class=\"data row2 col1\" >2.2</td>\n",
       "                        <td id=\"T_495a898a_7850_11eb_bfe5_d43d7e35a519row2_col2\" class=\"data row2 col2\" >0.2</td>\n",
       "                        <td id=\"T_495a898a_7850_11eb_bfe5_d43d7e35a519row2_col3\" class=\"data row2 col3\" >1.0</td>\n",
       "                        <td id=\"T_495a898a_7850_11eb_bfe5_d43d7e35a519row2_col4\" class=\"data row2 col4\" >0.0</td>\n",
       "                        <td id=\"T_495a898a_7850_11eb_bfe5_d43d7e35a519row2_col5\" class=\"data row2 col5\" >0.0</td>\n",
       "                        <td id=\"T_495a898a_7850_11eb_bfe5_d43d7e35a519row2_col6\" class=\"data row2 col6\" >0.6</td>\n",
       "                        <td id=\"T_495a898a_7850_11eb_bfe5_d43d7e35a519row2_col7\" class=\"data row2 col7\" >0.4</td>\n",
       "            </tr>\n",
       "            <tr>\n",
       "                        <th id=\"T_495a898a_7850_11eb_bfe5_d43d7e35a519level0_row3\" class=\"row_heading level0 row3\" >3</th>\n",
       "                        <td id=\"T_495a898a_7850_11eb_bfe5_d43d7e35a519row3_col0\" class=\"data row3 col0\" >2.0</td>\n",
       "                        <td id=\"T_495a898a_7850_11eb_bfe5_d43d7e35a519row3_col1\" class=\"data row3 col1\" >0.6</td>\n",
       "                        <td id=\"T_495a898a_7850_11eb_bfe5_d43d7e35a519row3_col2\" class=\"data row3 col2\" >0.6</td>\n",
       "                        <td id=\"T_495a898a_7850_11eb_bfe5_d43d7e35a519row3_col3\" class=\"data row3 col3\" >0.0</td>\n",
       "                        <td id=\"T_495a898a_7850_11eb_bfe5_d43d7e35a519row3_col4\" class=\"data row3 col4\" >1.0</td>\n",
       "                        <td id=\"T_495a898a_7850_11eb_bfe5_d43d7e35a519row3_col5\" class=\"data row3 col5\" >0.0</td>\n",
       "                        <td id=\"T_495a898a_7850_11eb_bfe5_d43d7e35a519row3_col6\" class=\"data row3 col6\" >-0.2</td>\n",
       "                        <td id=\"T_495a898a_7850_11eb_bfe5_d43d7e35a519row3_col7\" class=\"data row3 col7\" >0.2</td>\n",
       "            </tr>\n",
       "    </tbody></table>"
      ],
      "text/plain": [
       "<pandas.io.formats.style.Styler at 0x1a7120ef808>"
      ]
     },
     "metadata": {},
     "output_type": "display_data"
    }
   ],
   "source": [
    "model1.printTableau(temp1)"
   ]
  },
  {
   "cell_type": "markdown",
   "metadata": {},
   "source": [
    "#### Шаг №4 Оптимальное значение функции\n",
    "\n",
    "&#8195;&#8195; Теперь нам осталось определить значение функции. Оптимальный план можно записать так:"
   ]
  },
  {
   "cell_type": "code",
   "execution_count": 17,
   "metadata": {
    "ExecuteTime": {
     "end_time": "2021-02-26T16:32:58.857902Z",
     "start_time": "2021-02-26T16:32:58.843906Z"
    },
    "deletable": false,
    "editable": false
   },
   "outputs": [
    {
     "name": "stdout",
     "output_type": "stream",
     "text": [
      "Коеффициенты:\n",
      "x0 = 0.0\n",
      "x1 = 2.2\n",
      "x2 = 0.6\n",
      "Оптимальное значение функции: F = 10.6\n"
     ]
    }
   ],
   "source": [
    "model1.printSoln()"
   ]
  }
 ],
 "metadata": {
  "kernelspec": {
   "display_name": "Python 3",
   "language": "python",
   "name": "python3"
  },
  "language_info": {
   "codemirror_mode": {
    "name": "ipython",
    "version": 3
   },
   "file_extension": ".py",
   "mimetype": "text/x-python",
   "name": "python",
   "nbconvert_exporter": "python",
   "pygments_lexer": "ipython3",
   "version": "3.7.6"
  },
  "nb2mail": {
   "From": "mathmethodes@gmail.com",
   "Subject": "Business Report",
   "To": "gogila2000@mail.ru",
   "attach_data": [
    "FINAL_SIMPLEX.ipynb"
   ],
   "attach_file": [
    "FINAL_SIMPLEX.ipynb"
   ],
   "attachments": [
    "FINAL_SIMPLEX.ipynb"
   ]
  }
 },
 "nbformat": 4,
 "nbformat_minor": 2
}
