{
 "cells": [
  {
   "cell_type": "code",
   "execution_count": 1,
   "metadata": {
    "ExecuteTime": {
     "end_time": "2021-02-22T17:34:48.823321Z",
     "start_time": "2021-02-22T17:34:47.858402Z"
    },
    "scrolled": false
   },
   "outputs": [
    {
     "data": {
      "text/html": [
       "<script>\n",
       "code_show=true; \n",
       "function code_toggle() {\n",
       " if (code_show){\n",
       " $('div.input').hide();\n",
       " } else {\n",
       " $('div.input').show();\n",
       " }\n",
       " code_show = !code_show\n",
       "} \n",
       "$( document ).ready(code_toggle);\n",
       "</script>\n",
       "<form action=\"javascript:code_toggle()\"><input type=\"submit\" value=\"Нажмите на кнопку чтобы увидеть код\"></form>"
      ],
      "text/plain": [
       "<IPython.core.display.HTML object>"
      ]
     },
     "execution_count": 1,
     "metadata": {},
     "output_type": "execute_result"
    }
   ],
   "source": [
    "import warnings\n",
    "import numpy as np\n",
    "import matplotlib.pyplot as plt\n",
    "import matplotlib.ticker as ticker\n",
    "import ipywidgets as widgets\n",
    "import ipython_blocking\n",
    "\n",
    "\n",
    "from matplotlib.animation import FuncAnimation\n",
    "from ipywidgets import interactive\n",
    "from IPython.display import HTML\n",
    "from numpy import linalg as LA\n",
    "from scipy.optimize import linprog\n",
    "from ipywidgets import Button, Layout\n",
    "from IPython.display import clear_output\n",
    "\n",
    "\n",
    "%matplotlib notebook\n",
    "warnings.simplefilter('ignore')\n",
    "\n",
    "\n",
    "HTML('''<script>\n",
    "code_show=true; \n",
    "function code_toggle() {\n",
    " if (code_show){\n",
    " $('div.input').hide();\n",
    " } else {\n",
    " $('div.input').show();\n",
    " }\n",
    " code_show = !code_show\n",
    "} \n",
    "$( document ).ready(code_toggle);\n",
    "</script>\n",
    "<form action=\"javascript:code_toggle()\"><input type=\"submit\" value=\"Нажмите на кнопку чтобы увидеть код\"></form>''')"
   ]
  },
  {
   "cell_type": "code",
   "execution_count": 2,
   "metadata": {
    "ExecuteTime": {
     "end_time": "2021-02-22T17:34:48.838316Z",
     "start_time": "2021-02-22T17:34:48.825321Z"
    }
   },
   "outputs": [
    {
     "data": {
      "application/javascript": [
       "require(\"notebook/js/notebook\").Notebook.prototype.scroll_to_bottom = function () {}\n"
      ],
      "text/plain": [
       "<IPython.core.display.Javascript object>"
      ]
     },
     "metadata": {},
     "output_type": "display_data"
    }
   ],
   "source": [
    "%%javascript\n",
    "require(\"notebook/js/notebook\").Notebook.prototype.scroll_to_bottom = function () {}"
   ]
  },
  {
   "cell_type": "markdown",
   "metadata": {},
   "source": [
    "## Графический метод решения задачи линейного программирования\n",
    "\n",
    "### Теоретические основы графического метода решения задач линейного программирования\n",
    "\n",
    "&#8195;&#8195;Наиболее простым и наглядным методом решения задач линейного программирования является графический метод. Он применяется для задач линейного программирования с двумя переменными, когда ограничения выражены неравенствами, и задач со многими переменными при условии, что в их канонической записи содержится не более двух свободных переменных.\n",
    "\n",
    "&#8195;&#8195;Графический метод основан на геометрическом представлении допустимых решений и целевой функции задачи. Каждое из неравенств задачи линейного программирования определяет на координатной плоскости ($x_1$, $x_2$) некоторую полуплоскость. Пересечение этих полуплоскостей задает область допустимых решений (ОДР), то есть любая точка из этой области является решением системы ограничений.\n",
    "\n",
    "&#8195;&#8195;В общем случае область допустимых решений может быть представлена одной из следующих фигур: выпуклым многоугольником, неограниченной многоугольной областью, лучом, отрезком, точкой или пустой областью. В последнем случае говорят, что ограничения не совместны."
   ]
  },
  {
   "cell_type": "markdown",
   "metadata": {},
   "source": [
    "#### Теперь вы можете перейти к заполнению данных для метода"
   ]
  },
  {
   "cell_type": "code",
   "execution_count": 3,
   "metadata": {
    "ExecuteTime": {
     "end_time": "2021-02-22T17:34:48.853311Z",
     "start_time": "2021-02-22T17:34:48.840316Z"
    },
    "scrolled": false
   },
   "outputs": [
    {
     "data": {
      "text/html": [
       "<style>\n",
       ".enjoy-css {\n",
       "  display: inline-block;\n",
       "  -webkit-box-sizing: content-box;\n",
       "  -moz-box-sizing: content-box;\n",
       "  box-sizing: content-box;\n",
       "  cursor: pointer;\n",
       "  padding: 10px 20px;\n",
       "  border: 1px solid rgba(0,0,0,0);\n",
       "  -webkit-border-radius: 7px;\n",
       "  border-radius: 7px;\n",
       "  font: normal 12px/normal Verdana, Geneva, sans-serif;\n",
       "  color: rgba(0,0,0,1);\n",
       "  -o-text-overflow: clip;\n",
       "  text-overflow: clip;\n",
       "  word-spacing: 6px;\n",
       "  background: rgba(255,255,0,0.34);\n",
       "}\n",
       "</style>\n",
       "<div class=\"enjoy-css\">После заполнения формы не изменяйте введенные данные!</div>\n"
      ],
      "text/plain": [
       "<IPython.core.display.HTML object>"
      ]
     },
     "metadata": {},
     "output_type": "display_data"
    }
   ],
   "source": [
    "%%html\n",
    "<style>\n",
    ".enjoy-css {\n",
    "  display: inline-block;\n",
    "  -webkit-box-sizing: content-box;\n",
    "  -moz-box-sizing: content-box;\n",
    "  box-sizing: content-box;\n",
    "  cursor: pointer;\n",
    "  padding: 10px 20px;\n",
    "  border: 1px solid rgba(0,0,0,0);\n",
    "  -webkit-border-radius: 7px;\n",
    "  border-radius: 7px;\n",
    "  font: normal 12px/normal Verdana, Geneva, sans-serif;\n",
    "  color: rgba(0,0,0,1);\n",
    "  -o-text-overflow: clip;\n",
    "  text-overflow: clip;\n",
    "  word-spacing: 6px;\n",
    "  background: rgba(255,255,0,0.34);\n",
    "}\n",
    "</style>\n",
    "<div class=\"enjoy-css\">После заполнения формы не изменяйте введенные данные!</div>"
   ]
  },
  {
   "cell_type": "code",
   "execution_count": 4,
   "metadata": {
    "ExecuteTime": {
     "end_time": "2021-02-22T17:34:48.869306Z",
     "start_time": "2021-02-22T17:34:48.854311Z"
    }
   },
   "outputs": [],
   "source": [
    "red_notice = HTML('''<style>\n",
    "        .enjoy-css {\n",
    "          display: inline-block;\n",
    "          -webkit-box-sizing: content-box;\n",
    "          -moz-box-sizing: content-box;\n",
    "          box-sizing: content-box;\n",
    "          cursor: pointer;\n",
    "          padding: 10px 20px;\n",
    "          border: 1px solid rgba(0,0,0,0);\n",
    "          -webkit-border-radius: 7px;\n",
    "          border-radius: 7px;\n",
    "          font: normal 12px/normal Verdana, Geneva, sans-serif;\n",
    "          color: rgba(0,0,0,1);\n",
    "          -o-text-overflow: clip;\n",
    "          text-overflow: clip;\n",
    "          word-spacing: 6px;\n",
    "          background: rgba(255,33,0,0.34);\n",
    "            }\n",
    "        </style>\n",
    "        <div class=\"enjoy-css\">Вы ввели неккоректные данные!</div>''')\n",
    "\n",
    "green_notice = HTML('''<style>\n",
    "        .enjoy-css {\n",
    "          display: inline-block;\n",
    "          -webkit-box-sizing: content-box;\n",
    "          -moz-box-sizing: content-box;\n",
    "          box-sizing: content-box;\n",
    "          cursor: pointer;\n",
    "          padding: 10px 20px;\n",
    "          border: 1px solid rgba(0,0,0,0);\n",
    "          -webkit-border-radius: 7px;\n",
    "          border-radius: 7px;\n",
    "          font: normal 12px/normal Verdana, Geneva, sans-serif;\n",
    "          color: rgba(0,0,0,1);\n",
    "          -o-text-overflow: clip;\n",
    "          text-overflow: clip;\n",
    "          word-spacing: 6px;\n",
    "          background: rgba(18, 196, 30, 1);\n",
    "            }\n",
    "        </style>\n",
    "        <div class=\"enjoy-css\">Данные корректны</div>''')"
   ]
  },
  {
   "cell_type": "code",
   "execution_count": 5,
   "metadata": {
    "ExecuteTime": {
     "end_time": "2021-02-22T17:34:48.885302Z",
     "start_time": "2021-02-22T17:34:48.870306Z"
    },
    "hide_input": false,
    "scrolled": false
   },
   "outputs": [
    {
     "data": {
      "application/vnd.jupyter.widget-view+json": {
       "model_id": "47f3a186540f41e8b575ae0fb3181369",
       "version_major": 2,
       "version_minor": 0
      },
      "text/plain": [
       "Text(value='', description='Тип задачи(min/max):', style=DescriptionStyle(description_width='initial'))"
      ]
     },
     "metadata": {},
     "output_type": "display_data"
    }
   ],
   "source": [
    "type_of_task = widgets.Text(description='Тип задачи(min/max):',style={\"description_width\": 'initial'})\n",
    "\n",
    "type_of_task"
   ]
  },
  {
   "cell_type": "code",
   "execution_count": 6,
   "metadata": {
    "ExecuteTime": {
     "end_time": "2021-02-22T17:34:48.901296Z",
     "start_time": "2021-02-22T17:34:48.887300Z"
    },
    "scrolled": false
   },
   "outputs": [
    {
     "data": {
      "application/vnd.jupyter.widget-view+json": {
       "model_id": "2c59da17d81844f0b1631f99eb4d8c7c",
       "version_major": 2,
       "version_minor": 0
      },
      "text/plain": [
       "IntSlider(value=2, description='Количество неравенств в системе:', layout=Layout(width='50%'), max=4, min=2, s…"
      ]
     },
     "metadata": {},
     "output_type": "display_data"
    }
   ],
   "source": [
    "count_of_constr_slider = widgets.IntSlider(\n",
    "    value=2,\n",
    "    min=2,\n",
    "    max=4,\n",
    "    step=1,\n",
    "    description='Количество неравенств в системе:',\n",
    "    style={\"description_width\": 'initial',\n",
    "          \"handle_color\": 'lightblue'},\n",
    "    layout=Layout(width='50%')\n",
    ")\n",
    "count_of_constr_slider"
   ]
  },
  {
   "cell_type": "code",
   "execution_count": null,
   "metadata": {
    "ExecuteTime": {
     "start_time": "2021-02-22T17:34:47.827Z"
    },
    "scrolled": true
   },
   "outputs": [
    {
     "data": {
      "application/vnd.jupyter.widget-view+json": {
       "model_id": "927d0ec612a3485b83672a80958fa7b0",
       "version_major": 2,
       "version_minor": 0
      },
      "text/plain": [
       "Button(description='Далее', layout=Layout(height='30px', width='26.5%'), style=ButtonStyle())"
      ]
     },
     "metadata": {},
     "output_type": "display_data"
    }
   ],
   "source": [
    "# Кнопка для приостановления выполнения следующих ячеек\n",
    "\n",
    "block_button_1 = widgets.Button(description='Далее', layout=Layout(width='26.5%', height='30px'))\n",
    "display(block_button_1)\n",
    "%blockrun block_button_1"
   ]
  },
  {
   "cell_type": "code",
   "execution_count": null,
   "metadata": {
    "ExecuteTime": {
     "start_time": "2021-02-22T17:34:47.828Z"
    },
    "scrolled": false
   },
   "outputs": [],
   "source": [
    "# Виджет для ввода значений целевой функции\n",
    "\n",
    "target_children = [widgets.Text(description='Аргумент {num}'.format(num = i+1)) for i in range(2) ]\n",
    "target_function = widgets.Tab()\n",
    "target_function.children = target_children\n",
    "target_function.set_title(0, \"Целевая ф-ия\")\n",
    "target_function"
   ]
  },
  {
   "cell_type": "markdown",
   "metadata": {},
   "source": [
    "Введите данные для системы ограничений:"
   ]
  },
  {
   "cell_type": "code",
   "execution_count": null,
   "metadata": {
    "ExecuteTime": {
     "start_time": "2021-02-22T17:34:47.830Z"
    }
   },
   "outputs": [],
   "source": [
    "def vbox_draw(c):\n",
    "    \n",
    "    vbox = widgets.VBox([widgets.Tab(title='') for i in range(c.value)])\n",
    "    description_names = ['Аргумент','Аргумент','Аргумент','Знак']\n",
    "\n",
    "    #   Cоздание виджета для ограничений\n",
    "\n",
    "    for i in range(len(vbox.children)):\n",
    "        vbox.children[i].set_title(0,\"Уравнение {num}\".format(num = i+1))\n",
    "    for i in range(count_of_constr_slider.value):\n",
    "        vbox.children[i].children = [widgets.Text(description=description_names[i]) for i in range(4)]\n",
    "    display(vbox)\n",
    "    return vbox\n",
    "    \n",
    "vbox = vbox_draw(count_of_constr_slider)\n",
    "  "
   ]
  },
  {
   "cell_type": "code",
   "execution_count": null,
   "metadata": {
    "ExecuteTime": {
     "start_time": "2021-02-22T17:34:47.832Z"
    }
   },
   "outputs": [],
   "source": [
    "def try_data():\n",
    "    \n",
    "    signs_check = ['<=','>=']\n",
    "    constr = np.zeros((len(vbox.children),3), dtype=int)    # Матрица ограничений\n",
    "    signs = []                                              # Знаки неравенств - ограничений\n",
    "    \n",
    "    # Заполнение матриц, необходимых для решения задачи\n",
    "    try:\n",
    "        for i in range(len(vbox.children)):\n",
    "            for j in range(len(vbox.children[i].children)-1):\n",
    "                    constr[i][j] = int(vbox.children[i].children[j].value)\n",
    "        cel = [int(target_function.children[i].value) for i in range(2)]\n",
    "    except ValueError:\n",
    "        return {'flag': False}\n",
    "    \n",
    "    # Проверка правильности ввода знаков неравенст\n",
    "    for i in range(len(vbox.children)):\n",
    "        if vbox.children[i].children[3].value in signs_check:\n",
    "            signs.append(vbox.children[i].children[3].value)\n",
    "        else:\n",
    "            return {'flag': False}\n",
    "            \n",
    "    return {'flag': True, 'target': cel, 'signs': signs, 'constraint': constr}"
   ]
  },
  {
   "cell_type": "code",
   "execution_count": null,
   "metadata": {
    "ExecuteTime": {
     "start_time": "2021-02-22T17:34:47.833Z"
    }
   },
   "outputs": [],
   "source": [
    "check_button = widgets.Button(description=\"Проверить корректность ввода\", layout=Layout(width='26.5%', height='30px'))\n",
    "output = widgets.Output()"
   ]
  },
  {
   "cell_type": "markdown",
   "metadata": {},
   "source": [
    "Перед тем, как продолжить расчеты, проверьте корректность данных, используя кнопку ниже."
   ]
  },
  {
   "cell_type": "code",
   "execution_count": null,
   "metadata": {
    "ExecuteTime": {
     "start_time": "2021-02-22T17:34:47.835Z"
    }
   },
   "outputs": [],
   "source": [
    "display(check_button)\n",
    "display(output)"
   ]
  },
  {
   "cell_type": "code",
   "execution_count": null,
   "metadata": {
    "ExecuteTime": {
     "start_time": "2021-02-22T17:34:47.836Z"
    }
   },
   "outputs": [],
   "source": [
    "block_button_2 = widgets.Button(description='Выполнить расчет',\n",
    "                                layout=Layout(width='26.5%', height='30px'), disabled = True)"
   ]
  },
  {
   "cell_type": "code",
   "execution_count": null,
   "metadata": {
    "ExecuteTime": {
     "start_time": "2021-02-22T17:34:47.837Z"
    }
   },
   "outputs": [],
   "source": [
    "data_dict = try_data()                   # {'Флаг корректности ввода': True, 'Целевая ф-ия': cel,\n",
    "                                         #  'Список знаков нер-ств': signs, 'Матрица ограничений': constr}\n",
    "\n",
    "n = count_of_constr_slider.value         # Количество ограничений в системе\n",
    "x = np.linspace(-10, 50, 100)            # Ограничение линейного пространства для графиков\n",
    "points = np.zeros((n,4), dtype=float)    # Вспомогательная матрица для построения точек на графике\n",
    "\n",
    "def on_button_clicked(b):\n",
    "    with output:\n",
    "        temp = try_data()\n",
    "        clear_output()\n",
    "        if temp['flag'] is True:\n",
    "            display(green_notice)\n",
    "            block_button_2.disabled = False\n",
    "\n",
    "        if temp['flag'] is False:\n",
    "            display(red_notice)\n",
    "            block_button_2.disabled = True\n",
    "        \n",
    "        data_dict.clear()\n",
    "        data_dict.update(temp)\n",
    "\n",
    "check_button.on_click(on_button_clicked, remove = False)"
   ]
  },
  {
   "cell_type": "code",
   "execution_count": null,
   "metadata": {
    "ExecuteTime": {
     "start_time": "2021-02-22T17:34:47.838Z"
    }
   },
   "outputs": [],
   "source": [
    "display(block_button_2)\n",
    "%blockrun block_button_2"
   ]
  },
  {
   "cell_type": "markdown",
   "metadata": {},
   "source": [
    "### Алгоритм решения ЗЛП графическим способом"
   ]
  },
  {
   "cell_type": "markdown",
   "metadata": {},
   "source": [
    "#### Шаг №1. Строим ограничения ЗЛП\n",
    "\n",
    "&#8195;&#8195;Построим область допустимых решений, т.е. решим графически систему неравенств. Для этого построим каждую прямую и определим полуплоскости, заданные неравенствами.\n",
    "Построим первое уравнение по двум точкам. Для нахождения первой точки приравниваем $x_1$ = 0. Для нахождения второй точки приравниваем $x_2$ = 0. Далее необходимо наносим прямую, которая у нас получилась, на координатную плоскость. Определим полуплоскость, задаваемую неравенством. Выбрав точку (0; 0), определим знак неравенства в полуплоскости. Подставим эту точку в неравенство и узнаем, в какой полуплоскости лежит прямая. Те же самые действия необходимо проделать с оставшимися неравенствами в системе.\n",
    "\n",
    "&#8195;&#8195; На этом же графике сразу отметим точки пересечения функций, функций с осями координат. В будущем они могут нам пригодится.\n",
    "\n",
    "&#8195;&#8195; В результате первого шага получается следующая система координат:"
   ]
  },
  {
   "cell_type": "code",
   "execution_count": null,
   "metadata": {
    "ExecuteTime": {
     "start_time": "2021-02-22T17:34:47.842Z"
    },
    "scrolled": false
   },
   "outputs": [],
   "source": [
    "######    ФУНКЦИИ     #######\n",
    "\n",
    "def calc_points_3(constr):\n",
    "    \n",
    "    m1 = np.array([[constr[0][0],constr[0][1]], [constr[1][0], constr[1][1]]])\n",
    "    v1 = np.array([constr[0][2],constr[1][2]])\n",
    "\n",
    "    m2 = np.array([[constr[0][0],constr[0][1]], [constr[2][0], constr[2][1]]])\n",
    "    v2 = np.array([constr[0][2],constr[2][2]])\n",
    "\n",
    "    m3 = np.array([[constr[1][0],constr[1][1]], [constr[2][0], constr[2][1]]])\n",
    "    v3 = np.array([constr[1][2],constr[2][2]])\n",
    "\n",
    "    f_line = np.linalg.solve(m1,v1)\n",
    "    s_line = np.linalg.solve(m2,v2)\n",
    "    th_line = np.linalg.solve(m3,v3)\n",
    "\n",
    "    c = np.concatenate((f_line,s_line, th_line), axis=0)\n",
    "    cross_points = c.reshape(-1, 2)\n",
    "    \n",
    "    return cross_points\n",
    "\n",
    "def calc_points_2(constr):\n",
    "    \n",
    "    m1 = np.array([[constr[0][0],constr[0][1]], [constr[1][0], constr[1][1]]])\n",
    "    v1 = np.array([constr[0][2],constr[1][2]])\n",
    "\n",
    "    f_line = np.linalg.solve(m1,v1)\n",
    "    cross_points = f_line.reshape(-1, 2)\n",
    "    \n",
    "    return cross_points\n",
    "\n",
    "def draw_crossp():\n",
    "    \n",
    "    for i in range(n):\n",
    "        ax.plot(points[i][0],  marker='o', color='red')\n",
    "\n",
    "def drawing_zone(signs,constr):\n",
    "    \n",
    "    def frange(start, stop, step):\n",
    "        i = start\n",
    "        while i < stop:\n",
    "            yield i\n",
    "            i += step\n",
    "\n",
    "\n",
    "    true_points = []\n",
    "    temp_mark = []\n",
    "\n",
    "    for i in frange(0,8,0.05):\n",
    "        for j in frange(0,8,0.05):\n",
    "            for k in range(n):\n",
    "                \n",
    "                if (signs[k] == '<='):\n",
    "                    \n",
    "                    if (i * constr[k][0] +  j * constr[k][1] < constr[k][2]):\n",
    "                        temp_mark.append(True)\n",
    "                    else:\n",
    "                        temp_mark.append(False)\n",
    "                        \n",
    "                if (signs[k] == '>='):\n",
    "                    \n",
    "                    if (i * constr[k][0] +  j * constr[k][1] > constr[k][2]):\n",
    "                        temp_mark.append(True)\n",
    "                    else:\n",
    "                        temp_mark.append(False)\n",
    "\n",
    "\n",
    "            if (np.isin(temp_mark, True).all()):\n",
    "                true_points.extend([i,j])\n",
    "                temp_mark.clear()\n",
    "            \n",
    "            temp_mark.clear()\n",
    "                \n",
    "    t_p = np.reshape(true_points, (-1, 2))    # Закрашиваемая область точек\n",
    "    t_p1 = t_p[:,0]                           # Разделение на два массива точек\n",
    "    t_p2 = t_p[:,1]\n",
    "    ax.scatter(t_p1, t_p2, s = 5, alpha=0.2, marker='s', color = 'gold')\n",
    "    \n",
    "def print_lines(constr):\n",
    "    \n",
    "    for i in range(n):\n",
    "        y = (-constr[i][0]*x + constr[i][2])/constr[i][1]\n",
    "        ax.plot(x, y, color=\"black\")\n",
    "\n",
    "def print_points(points):\n",
    "    \n",
    "    for i in range(n):\n",
    "        ax.plot(points[i][0], 0.0, 0.0, points[i][3], marker='o', color='darkviolet')\n",
    "\n",
    "def function_points(constr, points):\n",
    "    \n",
    "    for i in range(n):\n",
    "        res = float(constr[i][2]/constr[i][0]) #приравниваем к нулю Y\n",
    "        res1 = float(constr[i][2]/constr[i][1]) #приравниваем к нулю X\n",
    "        points[i][0] = res\n",
    "        points[i][3] = res1\n",
    "    \n",
    "    return points\n",
    "    \n",
    "def gradient(cel):\n",
    "    \n",
    "    ax.plot([0,cel[0]],[0,cel[1]], color = 'darkviolet')\n",
    "    ax.plot([0,cel[0]],[0,cel[1]], marker = 'o', color = 'darkviolet')\n",
    "    \n",
    "\n",
    "def convert_matrix(matrix,signs):\n",
    "    \n",
    "    new_constr = matrix\n",
    "    \n",
    "    for i in range(n):\n",
    "        if (signs[i] == '>='):\n",
    "            new_constr[i] = -matrix[i]\n",
    "    \n",
    "    return new_constr\n",
    "\n",
    "def extremum_points_mins(A,b,cel):\n",
    "    \n",
    "    c = [cel[0], cel[1]]\n",
    "    x0_bounds = (0, None)\n",
    "    x1_bounds = (0, None)\n",
    "\n",
    "    res = linprog(c, A_ub=A, b_ub=b, bounds=[x0_bounds, x1_bounds])\n",
    "    \n",
    "    return res\n",
    "\n",
    "def extremum_points_maxs(A,b,cel):\n",
    "    \n",
    "    c = [-cel[0], -cel[1]]\n",
    "    x0_bounds = (0, None)\n",
    "    x1_bounds = (0, None)\n",
    "\n",
    "    res = linprog(c, A_ub=A, b_ub=b, bounds=[x0_bounds, x1_bounds])\n",
    "    \n",
    "    return res\n",
    "\n",
    "def system(ax):\n",
    "    \n",
    "    ax.set_xlim(-1, 7)\n",
    "    ax.set_ylim(-1, 7)\n",
    "    ax.set_xlabel(\"Ось X\")                              \n",
    "    ax.set_ylabel(\"Ось Y\")\n",
    "\n",
    "    ax.tick_params(axis = 'y',    \n",
    "                   which = 'major',   \n",
    "                   direction = 'inout',    \n",
    "                   length = 9,    \n",
    "                   width = 1.5,     \n",
    "                   color = 'black',    pad = 7,    \n",
    "                   labelsize = 10,    \n",
    "                   labelcolor = 'maroon',    \n",
    "                   bottom = True,    \n",
    "                   top = False,    \n",
    "                   left = True,    \n",
    "                   right = False,    \n",
    "                   labelbottom = True,    \n",
    "                   labeltop = True,    \n",
    "                   labelleft = True,    \n",
    "                   labelright = False,    \n",
    "                   labelrotation = 0)\n",
    "\n",
    "    ax.xaxis.set_major_locator(ticker.MultipleLocator(1))\n",
    "    ax.yaxis.set_major_locator(ticker.MultipleLocator(1))\n",
    "\n",
    "    ax = plt.gca()\n",
    "    ax.spines['top'].set_color('none')\n",
    "    ax.spines['bottom'].set_position('zero')\n",
    "    ax.spines['left'].set_position('zero')\n",
    "    ax.spines['right'].set_color('none')\n",
    "    ax.grid(True)\n",
    "\n",
    "    colors = ['yellow','blue','black']"
   ]
  },
  {
   "cell_type": "code",
   "execution_count": null,
   "metadata": {
    "ExecuteTime": {
     "start_time": "2021-02-22T17:34:47.843Z"
    },
    "run_control": {
     "marked": false
    },
    "scrolled": false
   },
   "outputs": [],
   "source": [
    "p_temp = function_points(data_dict['constraint'],points)\n",
    "fig = plt.figure('Построение ограничений')\n",
    "ax = plt.subplot()\n",
    "\n",
    "system(ax)\n",
    "print_lines(data_dict['constraint'])\n",
    "print_points(p_temp)\n",
    "\n",
    "if n <= 3:\n",
    "    if (n == 3):\n",
    "        cross_p = calc_points_3(data_dict['constraint'])\n",
    "\n",
    "    if (n == 2):\n",
    "        cross_p = calc_points_2(data_dict['constraint'])\n",
    "\n",
    "    for i in range(n):\n",
    "        ax.plot(cross_p[i][0], cross_p[i][1], marker='o', color='darkviolet')\n",
    "\n",
    "plt.show()"
   ]
  },
  {
   "cell_type": "markdown",
   "metadata": {},
   "source": [
    "#### Шаг №2. Определить вектор-градиент\n",
    "Формируем графическое изображение целевой функции.\n",
    "    \n",
    "&#8195;&#8195;Приравняем целевую функцию к постоянной величине L: L=${c_1x_1+c_2x_2}$. Это уравнение при фиксированном значении L определяет прямую, а при изменении L семейство параллельных прямых, каждая из которых называется линией уровня. \n",
    "\n",
    "&#8195;&#8195;Далее определяем направление возрастания целевой функции (вектор ${\\overline{C}}$).Для определения направления максимального возрастания значения целевой функции строим вектор-градиент целевой функции, который начинается в точке (0,0), заканчивается в точке (${c_1x_1,c_2x_2}$). Если линия уровня и вектор-градиент построены верно, то они будут перпендикулярны.\n",
    "\n",
    "&#8195;&#8195; На рисунке ниже вектор-градиент выделен фиолетовым цветом."
   ]
  },
  {
   "cell_type": "code",
   "execution_count": null,
   "metadata": {
    "ExecuteTime": {
     "start_time": "2021-02-22T17:34:47.845Z"
    },
    "scrolled": false
   },
   "outputs": [],
   "source": [
    "p_temp = function_points(data_dict['constraint'],points)\n",
    "fig = plt.figure(\"Отрисовка вектора-градиента\")\n",
    "ax = plt.subplot()\n",
    "\n",
    "system(ax)\n",
    "print_lines(data_dict['constraint'])\n",
    "print_points(p_temp)\n",
    "\n",
    "if n <= 3:\n",
    "    if (n == 3):\n",
    "        cross_p = calc_points_3(data_dict['constraint'])\n",
    "\n",
    "    if (n == 2):\n",
    "        cross_p = calc_points_2(data_dict['constraint'])\n",
    "\n",
    "    for i in range(n):\n",
    "        ax.plot(cross_p[i][0], cross_p[i][1], marker='o', color='darkviolet')\n",
    "        \n",
    "gradient(data_dict['target'])    \n",
    "plt.show()"
   ]
  },
  {
   "cell_type": "markdown",
   "metadata": {},
   "source": [
    "#### Шаг №3. Штриховка отсеченной полуплоскости\n",
    "\n",
    "&#8195;&#8195; На данном этапе необходимо определить, в какой полуплоскости лежит каждое неравенство из системы ограничений. Если вы не знаете как это сделать, вы можете обратиться за сведениями в методические указания.\n",
    "\n",
    "&#8195;&#8195; Выделяем графически ту область, которая была отсечена построенными функциями, это та область допустимых значений, в которой необходимо найти максимум или минимум, в зависимости от задания.\n"
   ]
  },
  {
   "cell_type": "code",
   "execution_count": null,
   "metadata": {
    "ExecuteTime": {
     "start_time": "2021-02-22T17:34:47.847Z"
    },
    "scrolled": false
   },
   "outputs": [],
   "source": [
    "p_temp = function_points(data_dict['constraint'],points)\n",
    "fig = plt.figure(\"Штриховка отсеченной области\")\n",
    "ax = plt.subplot()\n",
    "\n",
    "system(ax)\n",
    "print_lines(data_dict['constraint'])\n",
    "print_points(p_temp)\n",
    "\n",
    "if n <= 3:\n",
    "    if (n == 3):\n",
    "        cross_p = calc_points_3(data_dict['constraint'])\n",
    "\n",
    "    if (n == 2):\n",
    "        cross_p = calc_points_2(data_dict['constraint'])\n",
    "\n",
    "    for i in range(n):\n",
    "        ax.plot(cross_p[i][0], cross_p[i][1], marker='o', color='darkviolet')\n",
    "\n",
    "gradient(data_dict['target'])\n",
    "drawing_zone(data_dict['signs'], data_dict['constraint'])\n",
    "plt.show()"
   ]
  },
  {
   "cell_type": "markdown",
   "metadata": {},
   "source": [
    "#### Шаг №4. Смещение линии уровня.\n",
    "Находим оптимальное решение задачи ЛП.\n",
    "    \n",
    "&#8195;&#8195; Линию уровня перемещаем по направлению вектора ${\\overline{C}}$ для задач на максимум и в направлении, противоположном ${\\overline{C}}$, для задач на минимум. Перемещение линии уровня производится до тех пор, пока у нее окажется только одна общая точка с областью допустимых решений (ОДР). Эта точка определяет единственное решение задачи ЛП и будет точкой экстремума.\n",
    "\n",
    "&#8195;&#8195; Если окажется, что линия уровня параллельна одной из сторон ОДР, то задача ЛП будет иметь бесчисленное множество решений. Если ОДР представляет неограниченную область, то целевая функция может быть неограниченна. Задача ЛП может быть неразрешима, когда определяющие ее ограничения окажутся противоречивыми.\n",
    "\n",
    "&#8195;&#8195; Если вы хотите остановить анимацию линии уровня, нажмите на синию кнопку в верхнем правом углу графика."
   ]
  },
  {
   "cell_type": "code",
   "execution_count": null,
   "metadata": {
    "ExecuteTime": {
     "start_time": "2021-02-22T17:34:47.849Z"
    },
    "scrolled": false
   },
   "outputs": [],
   "source": [
    "p_temp = function_points(data_dict['constraint'],points)\n",
    "fig = plt.figure(\"Движение линии уровня\")\n",
    "ax = plt.subplot()\n",
    "\n",
    "system(ax)\n",
    "print_lines(data_dict['constraint'])\n",
    "print_points(p_temp)\n",
    "\n",
    "if n <= 3:\n",
    "    if (n == 3):\n",
    "        cross_p = calc_points_3(data_dict['constraint'])\n",
    "\n",
    "    if (n == 2):\n",
    "        cross_p = calc_points_2(data_dict['constraint'])\n",
    "\n",
    "    for i in range(n):\n",
    "        ax.plot(cross_p[i][0], cross_p[i][1], marker='o', color='darkviolet')\n",
    "\n",
    "gradient(data_dict['target'])\n",
    "drawing_zone(data_dict['signs'], data_dict['constraint'])\n",
    "plt.show()\n",
    "\n",
    "y = (-data_dict['target'][0]*x + i)/data_dict['target'][1]\n",
    "    \n",
    "p_line, = ax.plot(x,y, linestyle = '--', color = 'darkviolet')\n",
    "\n",
    "def animate(i):\n",
    "    y = (-data_dict['target'][0]*x + i*0.3)/data_dict['target'][1]\n",
    "    p_line.set_data(x,y)\n",
    "    \n",
    "    return p_line,\n",
    "\n",
    "anima = FuncAnimation(fig, animate, frames=100, interval=50,blit = True)"
   ]
  },
  {
   "cell_type": "markdown",
   "metadata": {},
   "source": [
    "#### Шаг №5. Поиск экстремальной точки\n",
    "\n",
    "Находим координаты точки экстремума и значение целевой функции в этой точке.\n",
    "    \n",
    "&#8195;&#8195; Если мы ищем минимум функции, то необходимо взять первую точку входа линии уровня в отсеченную область (на рисунке отмечена желтым цветом). А если максимум, то последню точку вхождения линиии уровня в область.\n",
    "\n",
    "&#8195;&#8195; Для вычисления координат оптимальной точки решим систему уравнений прямых, на пересечении которых находится эта точка. Подставляя найденный результат в целевую функцию, получим искомое оптимальное значение целевой функции."
   ]
  },
  {
   "cell_type": "markdown",
   "metadata": {},
   "source": [
    "#### Итоговый ответ.\n",
    "\n",
    "&#8195;&#8195; В результате всех вычислений мы получили следующий ответ:"
   ]
  },
  {
   "cell_type": "code",
   "execution_count": null,
   "metadata": {
    "ExecuteTime": {
     "start_time": "2021-02-22T17:34:47.851Z"
    },
    "scrolled": false
   },
   "outputs": [],
   "source": [
    "def answer(constr,signs,cel):\n",
    "    \n",
    "    temp_matrix = convert_matrix(constr, signs)\n",
    "    extr1 = np.delete(temp_matrix, 2, axis = 1)\n",
    "    extr2 = constr[:,2]\n",
    "    extr = type_of_task.value\n",
    "\n",
    "    if (extr == \"max\"):\n",
    "        m_p = extremum_points_maxs(extr1,extr2,cel)\n",
    "        if m_p['success'] is True:\n",
    "            points_e = m_p['x']\n",
    "            function_max = cel[0]*points_e[0] + cel[1]*points_e[1]\n",
    "            print(\"Экстремальная точка:  x: {0:.2f}  y: {1:.2f}\".format(m_p['x'][0], m_p['x'][1]))\n",
    "            print(\"Значение функции: {0:.2f}\".format(function_max))\n",
    "        else:\n",
    "            print(\"Функция не ограничена\")\n",
    "\n",
    "    elif (extr == \"min\"):\n",
    "        m_p = extremum_points_mins(extr1,extr2,cel)\n",
    "        if m_p['success'] is True:\n",
    "            points_e = m_p['x']\n",
    "            function_min = cel[0]*points_e[0] + cel[1]*points_e[1]\n",
    "            print(\"Экстремальная точка:  x: {0:.2f}  y: {1:.2f}\".format(m_p['x'][0], m_p['x'][1]))\n",
    "            print(\"Значение функции: F =  {0:.2f}\".format(function_min))\n",
    "        else:\n",
    "            print(\"Функция не ограничена\")\n",
    "    else:\n",
    "        print(\"Ошибка, вы ввели некорректное значение\")\n",
    "        \n",
    "    return m_p"
   ]
  },
  {
   "cell_type": "code",
   "execution_count": null,
   "metadata": {
    "ExecuteTime": {
     "start_time": "2021-02-22T17:34:47.852Z"
    },
    "scrolled": false
   },
   "outputs": [],
   "source": [
    "temp = answer(data_dict['constraint'], data_dict['signs'], data_dict['target'])"
   ]
  },
  {
   "cell_type": "code",
   "execution_count": null,
   "metadata": {},
   "outputs": [],
   "source": []
  }
 ],
 "metadata": {
  "kernelspec": {
   "display_name": "Python 3",
   "language": "python",
   "name": "python3"
  },
  "language_info": {
   "codemirror_mode": {
    "name": "ipython",
    "version": 3
   },
   "file_extension": ".py",
   "mimetype": "text/x-python",
   "name": "python",
   "nbconvert_exporter": "python",
   "pygments_lexer": "ipython3",
   "version": "3.7.6"
  },
  "nb2mail": {
   "From": "mathmethodes@gmail.com",
   "Subject": "Business Report",
   "To": "gogila2000@mail.ru",
   "attach_data": [
    "FINAL_GRAF_METHOD.ipynb"
   ],
   "attach_file": [
    "FINAL_GRAF_METHOD.ipynb"
   ],
   "attachments": [
    "FINAL_GRAF_METHOD.ipynb"
   ]
  }
 },
 "nbformat": 4,
 "nbformat_minor": 4
}
